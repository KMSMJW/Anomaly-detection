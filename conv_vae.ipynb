{
 "cells": [
  {
   "cell_type": "code",
   "execution_count": 1,
   "metadata": {},
   "outputs": [],
   "source": [
    "import tensorflow as tf\n",
    "import numpy as np\n",
    "import matplotlib.pyplot as plt\n",
    "import pandas as pd\n",
    "from tqdm.autonotebook import tqdm\n",
    "from IPython import display\n",
    "from scipy.io import wavfile\n",
    "import processing as pr"
   ]
  },
  {
   "cell_type": "code",
   "execution_count": 2,
   "metadata": {},
   "outputs": [],
   "source": [
    "#data\n",
    "model_name = \"SWaT\""
   ]
  },
  {
   "cell_type": "code",
   "execution_count": 3,
   "metadata": {},
   "outputs": [],
   "source": [
    "train_set, test_set, label_set = pr.SWaT()"
   ]
  },
  {
   "cell_type": "code",
   "execution_count": 4,
   "metadata": {},
   "outputs": [
    {
     "name": "stdout",
     "output_type": "stream",
     "text": [
      "yes\n"
     ]
    }
   ],
   "source": [
    "if model_name == \"SMD\" or model_name == \"SWaT\":\n",
    "    print(\"yes\")\n",
    "    train_set, test_set = pr.min_max(train_set, test_set)"
   ]
  },
  {
   "cell_type": "code",
   "execution_count": 5,
   "metadata": {},
   "outputs": [],
   "source": [
    "if model_name == \"SMD\" or model_name == \"SWaT\":\n",
    "    train_set = pr.window_nonoverlap(train_set,100)\n",
    "    test_copy = np.copy(test_set)\n",
    "    test_set = pr.window_nonoverlap(test_set,100)\n",
    "    label_set = pr.label_window(label_set,100)\n",
    "else:\n",
    "    train_set = pr.window_overlap(train_set,100)\n",
    "    test_copy = np.copy(test_set)\n",
    "    test_set = pr.window_overlap(test_set,100)"
   ]
  },
  {
   "cell_type": "code",
   "execution_count": 6,
   "metadata": {},
   "outputs": [],
   "source": [
    "seqs = train_set.shape[1]\n",
    "channel = train_set.shape[-1]"
   ]
  },
  {
   "cell_type": "code",
   "execution_count": 7,
   "metadata": {},
   "outputs": [],
   "source": [
    "class Sampling(tf.keras.layers.Layer):\n",
    "    def call(self, inputs):\n",
    "        z_mean , z_log_var = inputs\n",
    "        batch = tf.shape(z_mean)[0]\n",
    "        dim = tf.shape(z_mean)[1]\n",
    "        epsilon = tf.keras.backend.random_normal(shape=(batch,dim))\n",
    "        return z_mean + tf.exp(0.5*z_log_var)*epsilon"
   ]
  },
  {
   "cell_type": "code",
   "execution_count": 8,
   "metadata": {},
   "outputs": [],
   "source": [
    "class Encoder(tf.keras.layers.Layer):\n",
    "    def __init__(self, name=\"encoder\", **kwargs):\n",
    "        super(Encoder, self).__init__(name=name, **kwargs)\n",
    "        self.conv0 = tf.keras.layers.Conv1D(filters=channel*2//3, kernel_size=2, padding='valid', strides=2, activation='relu')\n",
    "        self.conv1 = tf.keras.layers.Conv1D(filters=channel//3, kernel_size=2, padding='valid', strides=2, activation='relu')\n",
    "        self.flat = tf.keras.layers.Flatten()\n",
    "        self.dense_mean = tf.keras.layers.Dense(units=channel//5)\n",
    "        self.dense_log_var = tf.keras.layers.Dense(units=channel//5)\n",
    "        self.sampling = Sampling()\n",
    "\n",
    "    def call(self,inputs):\n",
    "        x = self.conv0(inputs)\n",
    "        x = self.conv1(x)\n",
    "        x = self.flat(x)\n",
    "        z_mean = self.dense_mean(x)\n",
    "        z_log_var = self.dense_log_var(x)\n",
    "        z = self.sampling((z_mean, z_log_var))\n",
    "        return z_mean, z_log_var, z"
   ]
  },
  {
   "cell_type": "code",
   "execution_count": 9,
   "metadata": {},
   "outputs": [],
   "source": [
    "class Decoder(tf.keras.layers.Layer):\n",
    "    def __init__(self, name=\"decoder\", **kwargs):\n",
    "        super(Decoder, self).__init__(name=name, **kwargs)\n",
    "        self.dense = tf.keras.layers.Dense(units=(seqs//4)*(channel//3), activation='relu')\n",
    "        self.reshape = tf.keras.layers.Reshape(target_shape=(seqs//4,channel//3))\n",
    "        self.conv1 = tf.keras.layers.Conv1DTranspose(filters=channel*2//3, kernel_size=2, padding='valid', strides=2, activation='relu')\n",
    "        self.conv2 = tf.keras.layers.Conv1DTranspose(filters=channel, kernel_size=2, padding='valid', strides=2, activation='relu')\n",
    "\n",
    "    def call(self, inputs):\n",
    "        x = self.dense(inputs)\n",
    "        x = self.reshape(x)\n",
    "        x = self.conv1(x)\n",
    "        x = self.conv2(x)\n",
    "        return x"
   ]
  },
  {
   "cell_type": "code",
   "execution_count": 10,
   "metadata": {},
   "outputs": [],
   "source": [
    "class VariationalAutoEncoder(tf.keras.Model):\n",
    "    def __init__(self, name=\"autoencoder\", **kwargs):\n",
    "        super(VariationalAutoEncoder, self).__init__(name=name, **kwargs)\n",
    "        self.encoder = Encoder()\n",
    "        self.decoder = Decoder()\n",
    "\n",
    "    def call(self, inputs):\n",
    "        z_mean, z_log_var, z = self.encoder(inputs)\n",
    "        reconstructed = self.decoder(z)\n",
    "        kl_loss = -0.0005*tf.reduce_mean(z_log_var - tf.square(z_mean) - tf.exp(z_log_var) + 1)\n",
    "        self.add_loss(kl_loss)\n",
    "        return reconstructed"
   ]
  },
  {
   "cell_type": "code",
   "execution_count": 11,
   "metadata": {},
   "outputs": [],
   "source": [
    "optimizer = tf.keras.optimizers.Adam(learning_rate=1e-4)\n",
    "mse_loss_fn = tf.keras.losses.MeanSquaredError()"
   ]
  },
  {
   "cell_type": "code",
   "execution_count": null,
   "metadata": {},
   "outputs": [],
   "source": [
    "model = VariationalAutoEncoder()\n",
    "epochs = 50\n",
    "batch_size = 128\n",
    "for epoch in range(epochs):\n",
    "\tprint(\"\\nStart of epoch %d\" % (epoch,))\n",
    "\tcopy_set = np.copy(train_set)\n",
    "\tfor k in tqdm(range(copy_set.shape[0]//batch_size), total=copy_set.shape[0]//batch_size):\n",
    "\t\tbatch_mask = np.random.choice(copy_set.shape[0], batch_size, replace=False)\n",
    "\t\tbatch = copy_set[batch_mask]\n",
    "\t\twith tf.GradientTape() as tape:\n",
    "\t\t\tinput = tf.constant(batch, dtype='float32')\n",
    "\t\t\tprediction = model(input)\n",
    "\t\t\treconstruction_error = mse_loss_fn(input,prediction)\n",
    "\t\t\tlatent_loss = sum(model.losses)\n",
    "\t\t\tloss_value = reconstruction_error + latent_loss\n",
    "\t\tgradients = tape.gradient(loss_value, model.trainable_weights)\n",
    "\t\toptimizer.apply_gradients(zip(gradients, model.trainable_weights))\n",
    "\t\tif k % 100 == 0:\n",
    "\t\t\tprint(\n",
    "\t\t\t\t\"Reconstruction error at step %d: %.4f\"\n",
    "\t\t\t\t% (k, float(tf.reduce_mean(reconstruction_error)))\n",
    "\t\t\t)\n",
    "\t\t\tprint(\n",
    "\t\t\t\t\"latent loss at step %d: %.4f\"\n",
    "\t\t\t\t% (k, float(tf.reduce_mean(latent_loss)))\n",
    "\t\t\t)\n",
    "\t\t\tprint(\n",
    "\t\t\t\t\"total loss at step %d: %.4f\"\n",
    "\t\t\t\t% (k, float(tf.reduce_mean(loss_value)))\n",
    "\t\t\t)\n",
    "\t\tcopy_set = np.delete(copy_set,batch_mask,axis=0)\n",
    "\tdisplay.clear_output()"
   ]
  },
  {
   "cell_type": "code",
   "execution_count": 14,
   "metadata": {},
   "outputs": [
    {
     "name": "stderr",
     "output_type": "stream",
     "text": [
      "WARNING:absl:Found untraced functions such as conv1d_layer_call_fn, conv1d_layer_call_and_return_conditional_losses, conv1d_1_layer_call_fn, conv1d_1_layer_call_and_return_conditional_losses, flatten_layer_call_fn while saving (showing 5 of 40). These functions will not be directly callable after loading.\n"
     ]
    },
    {
     "name": "stdout",
     "output_type": "stream",
     "text": [
      "INFO:tensorflow:Assets written to: ./model/CONV_VAE_SWaT\\assets\n"
     ]
    },
    {
     "name": "stderr",
     "output_type": "stream",
     "text": [
      "INFO:tensorflow:Assets written to: ./model/CONV_VAE_SWaT\\assets\n"
     ]
    }
   ],
   "source": [
    "model.save('./model/CONV_VAE_' + model_name)"
   ]
  },
  {
   "cell_type": "code",
   "execution_count": 8,
   "metadata": {},
   "outputs": [],
   "source": [
    "model = tf.keras.models.load_model('./model/CONV_VAE_' + model_name)"
   ]
  },
  {
   "cell_type": "code",
   "execution_count": 15,
   "metadata": {},
   "outputs": [],
   "source": [
    "from sklearn import metrics\n",
    "import matplotlib.pyplot as plt\n",
    "from sklearn.metrics import roc_curve, auc"
   ]
  },
  {
   "cell_type": "code",
   "execution_count": 16,
   "metadata": {},
   "outputs": [],
   "source": [
    "if len(label_set.shape) == 2:\n",
    "    print('long')\n",
    "    label_set = label_set[:,1]"
   ]
  },
  {
   "cell_type": "code",
   "execution_count": 17,
   "metadata": {},
   "outputs": [
    {
     "name": "stderr",
     "output_type": "stream",
     "text": [
      "100%|██████████| 4499/4499 [00:27<00:00, 164.72it/s]\n"
     ]
    }
   ],
   "source": [
    "if model_name == \"SMD\" or  model_name == \"SWaT\":\n",
    "    reconstruct_set = list()\n",
    "    for i in tqdm(test_set):\n",
    "        input = np.array([i])\n",
    "        recon = model(input)\n",
    "        reconstruct_set.extend(recon)\n",
    "else:\n",
    "    num = test_set.shape[0] // 100\n",
    "    reconstruct_set = list()\n",
    "    for i in tqdm(range(0,num)):\n",
    "        i = test_set[i*100:(i+1)*100]\n",
    "        recon = model(i)\n",
    "        reconstruct_set.extend(recon)\n",
    "    i = test_set[num*100:]\n",
    "    recon = model(i)\n",
    "    reconstruct_set.extend(recon)"
   ]
  },
  {
   "cell_type": "code",
   "execution_count": 18,
   "metadata": {},
   "outputs": [],
   "source": [
    "reconstruct_set = np.array(reconstruct_set)"
   ]
  },
  {
   "cell_type": "code",
   "execution_count": 19,
   "metadata": {},
   "outputs": [],
   "source": [
    "if model_name == \"SMD\" or  model_name == \"SWaT\":\n",
    "    recon_error = np.mean((reconstruct_set-test_set)**2, axis=1)\n",
    "    error_score = np.mean(recon_error, axis=-1)\n",
    "    score_set = error_score\n",
    "else:\n",
    "    pred = pr.pred(reconstruct_set)\n",
    "    recon_error = (pred-test_copy)**2\n",
    "    error_score = np.mean(recon_error,axis=1)\n",
    "    score_set = error_score"
   ]
  },
  {
   "cell_type": "code",
   "execution_count": 20,
   "metadata": {},
   "outputs": [],
   "source": [
    "false_positive_rate, true_positive_rate, thresholds = roc_curve(label_set, score_set)"
   ]
  },
  {
   "cell_type": "code",
   "execution_count": 21,
   "metadata": {},
   "outputs": [],
   "source": [
    "roc_auc = metrics.roc_auc_score(label_set, score_set)"
   ]
  },
  {
   "cell_type": "code",
   "execution_count": 22,
   "metadata": {},
   "outputs": [
    {
     "data": {
      "image/png": "[encoded data removed]",
      "text/plain": [
       "<Figure size 432x288 with 1 Axes>"
      ]
     },
     "metadata": {
      "needs_background": "light"
     },
     "output_type": "display_data"
    }
   ],
   "source": [
    "plt.title('conv-vae(' + model_name + ')')\n",
    "plt.xlabel('False Positive Rate(1 - Specificity)')\n",
    "plt.ylabel('True Positive Rate(Sensitivity)')\n",
    "\n",
    "plt.plot(false_positive_rate, true_positive_rate, 'b', label='Model (AUC = %0.2f)'% roc_auc)\n",
    "plt.plot([0,1],[1,1],'y--')\n",
    "plt.plot([0,1],[0,1],'r--')\n",
    "\n",
    "plt.legend(loc='lower right')\n",
    "plt.savefig('./graph/conv_vae_' + model_name + '.png', dpi=300)\n",
    "plt.show()"
   ]
  },
  {
   "cell_type": "code",
   "execution_count": null,
   "metadata": {},
   "outputs": [],
   "source": []
  }
 ],
 "metadata": {
  "interpreter": {
   "hash": "4ba1222bfa670841c042dcdf032f7735c5fb24ff6800644ba1675dbc0913d334"
  },
  "kernelspec": {
   "display_name": "Python 3.9.7 ('base')",
   "language": "python",
   "name": "python3"
  },
  "language_info": {
   "codemirror_mode": {
    "name": "ipython",
    "version": 3
   },
   "file_extension": ".py",
   "mimetype": "text/x-python",
   "name": "python",
   "nbconvert_exporter": "python",
   "pygments_lexer": "ipython3",
   "version": "3.9.7"
  },
  "orig_nbformat": 4
 },
 "nbformat": 4,
 "nbformat_minor": 2
}
