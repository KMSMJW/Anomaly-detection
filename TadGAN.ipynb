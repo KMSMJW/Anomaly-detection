{
 "cells": [
  {
   "cell_type": "code",
   "execution_count": null,
   "metadata": {},
   "outputs": [],
   "source": [
    "print(\"change check\")"
   ]
  },
  {
   "cell_type": "code",
   "execution_count": 36,
   "metadata": {},
   "outputs": [],
   "source": [
    "import sys\n",
    "import numpy as np\n",
    "import pandas as pd\n",
    "import matplotlib.pyplot as plt\n",
    "\n",
    "from sklearn.impute import SimpleImputer\n",
    "from sklearn.preprocessing import MinMaxScaler\n",
    "from tqdm.autonotebook import tqdm\n",
    "from IPython import display"
   ]
  },
  {
   "cell_type": "code",
   "execution_count": 37,
   "metadata": {},
   "outputs": [
    {
     "name": "stdout",
     "output_type": "stream",
     "text": [
      "[PhysicalDevice(name='/physical_device:GPU:0', device_type='GPU'), PhysicalDevice(name='/physical_device:GPU:1', device_type='GPU')]\n"
     ]
    }
   ],
   "source": [
    "import tensorflow as tf\n",
    "import logging\n",
    "import math\n",
    "\n",
    "gpus = tf.config.experimental.list_physical_devices('GPU') \n",
    "if gpus: \n",
    "    try: \n",
    "        for gpu in gpus: \n",
    "            tf.config.experimental.set_memory_growth(gpu, True) \n",
    "    except RuntimeError as e: \n",
    "        print(e)\n",
    "print (gpus)"
   ]
  },
  {
   "cell_type": "code",
   "execution_count": 38,
   "metadata": {},
   "outputs": [],
   "source": [
    "import numpy as np\n",
    "import pandas as pd\n",
    "import pickle\n",
    "\n",
    "import keras\n",
    "import matplotlib.pyplot as plt\n",
    "\n",
    "from tensorflow.keras import backend as K\n",
    "\n",
    "from tensorflow import keras\n",
    "from tensorflow.keras import layers\n",
    "\n",
    "from tensorflow.keras.layers import Input\n",
    "from tensorflow.keras.models import Model\n",
    "\n",
    "from tensorflow.keras.layers import Bidirectional, LSTM, Flatten, Dense, Reshape, UpSampling1D, TimeDistributed\n",
    "from tensorflow.keras.layers import Activation, Conv1D, LeakyReLU, Dropout, Add, Layer\n",
    "from tensorflow.keras.optimizers import Adam\n",
    "\n",
    "from functools import partial\n",
    "from scipy import integrate, stats"
   ]
  },
  {
   "cell_type": "code",
   "execution_count": 39,
   "metadata": {},
   "outputs": [],
   "source": [
    "class RandomWeightedAverage(Layer):\n",
    "    def _merge_function(self, inputs):\n",
    "        alpha = K.random_uniform((64,1,1))\n",
    "        return (alpha)*inputs[0] + (1-alpha)*inputs[1]"
   ]
  },
  {
   "cell_type": "code",
   "execution_count": 40,
   "metadata": {},
   "outputs": [],
   "source": [
    "def build_encoder_layer(input_shape, encoder_reshape_shape):\n",
    "\n",
    "    input_layer = layers.Input(shape=(input_shape))\n",
    "\n",
    "    x = layers.Bidirectional(LSTM(units=100, return_sequences=True))(input_layer)\n",
    "    x = layers.Flatten()(x)\n",
    "    x = layers.Dense(20*55)(x)\n",
    "    x = layers.Reshape(target_shape=encoder_reshape_shape)(x)\n",
    "    model = keras.models.Model(input_layer, x, name='encoder')\n",
    "\n",
    "    return model"
   ]
  },
  {
   "cell_type": "code",
   "execution_count": 41,
   "metadata": {},
   "outputs": [],
   "source": [
    "def build_generator_layer(input_shape, generator_reshape_shape):\n",
    "\n",
    "    input_layer = layers.Input(shape=input_shape)\n",
    "\n",
    "    x = layers.Flatten()(input_layer)\n",
    "    x = layers.Dense(generator_reshape_shape[0]*generator_reshape_shape[1])(x)\n",
    "    x = layers.Reshape(target_shape=generator_reshape_shape)(x)\n",
    "    x = layers.Bidirectional(LSTM(units=64, return_sequences=True), merge_mode='concat')(x)\n",
    "    x = layers.UpSampling1D(size=2)(x)\n",
    "    x = layers.Bidirectional(LSTM(units=64, return_sequences=True), merge_mode='concat')(x)\n",
    "    x = layers.TimeDistributed(layers.Dense(55))(x)\n",
    "    x = layers.Activation(activation='tanh')(x)\n",
    "    model = keras.models.Model(input_layer, x, name='generator')\n",
    "    \n",
    "    return model"
   ]
  },
  {
   "cell_type": "code",
   "execution_count": 42,
   "metadata": {},
   "outputs": [],
   "source": [
    "def build_critic_x_layer(input_shape):\n",
    "\n",
    "    input_layer = layers.Input(shape=input_shape)\n",
    "\n",
    "    x = layers.Conv1D(filters=64, kernel_size=5)(input_layer)\n",
    "    x = layers.LeakyReLU(alpha=0.2)(x)\n",
    "    x = layers.Dropout(rate=0.25)(x)\n",
    "    x = layers.Conv1D(filters=64, kernel_size=5)(x)\n",
    "    x = layers.LeakyReLU(alpha=0.2)(x)\n",
    "    x = layers.Dropout(rate=0.25)(x)\n",
    "    x = layers.Conv1D(filters=64, kernel_size=5)(x)\n",
    "    x = layers.LeakyReLU(alpha=0.2)(x)\n",
    "    x = layers.Dropout(rate=0.25)(x)\n",
    "    x = layers.Conv1D(filters=64, kernel_size=5)(x)\n",
    "    x = layers.LeakyReLU(alpha=0.2)(x)\n",
    "    x = layers.Dropout(rate=0.25)(x)\n",
    "    x = layers.Flatten()(x)\n",
    "    x = layers.Dense(units=1)(x)\n",
    "    model = keras.models.Model(input_layer, x, name='critic_x')\n",
    "\n",
    "    return model"
   ]
  },
  {
   "cell_type": "code",
   "execution_count": 43,
   "metadata": {},
   "outputs": [],
   "source": [
    "def build_critic_z_layer(input_shape):\n",
    "\n",
    "    input_layer = layers.Input(shape=input_shape)\n",
    "\n",
    "    x = layers.Flatten()(input_layer)\n",
    "    x = layers.Dense(units=4000)(x)\n",
    "    x = layers.LeakyReLU(alpha=0.2)(x)\n",
    "    x = layers.Dropout(rate=0.2)(x)\n",
    "    x = layers.Dense(units=4000)(x)\n",
    "    x = layers.LeakyReLU(alpha=0.2)(x)\n",
    "    x = layers.Dropout(rate=0.2)(x)\n",
    "    x = layers.Dense(units=1)(x)\n",
    "    model = keras.models.Model(input_layer, x, name='critic_z')\n",
    "\n",
    "    return model"
   ]
  },
  {
   "cell_type": "code",
   "execution_count": 44,
   "metadata": {},
   "outputs": [],
   "source": [
    "def wasserstein_loss(y_true, y_pred):\n",
    "    return K.mean(y_true*y_pred)"
   ]
  },
  {
   "cell_type": "code",
   "execution_count": 45,
   "metadata": {},
   "outputs": [],
   "source": [
    "window_size = 100"
   ]
  },
  {
   "cell_type": "code",
   "execution_count": 46,
   "metadata": {},
   "outputs": [],
   "source": [
    "encoder_input_shape = (window_size,55)\n",
    "generator_input_shape = (20,55)\n",
    "\n",
    "critic_x_input_shape = (window_size,55)\n",
    "critic_z_input_shape = (20,55)\n",
    "\n",
    "encoder_reshape_shape = (20,55)\n",
    "generator_reshape_shape = (window_size//2, 55)\n",
    "\n",
    "learning_rate = 0.0005"
   ]
  },
  {
   "cell_type": "code",
   "execution_count": 47,
   "metadata": {},
   "outputs": [],
   "source": [
    "encoder = build_encoder_layer(input_shape=encoder_input_shape, encoder_reshape_shape=encoder_reshape_shape)\n",
    "generator = build_generator_layer(input_shape=generator_input_shape, generator_reshape_shape=generator_reshape_shape)\n",
    "critic_x = build_critic_x_layer(input_shape=critic_x_input_shape)\n",
    "critic_z = build_critic_z_layer(input_shape=critic_z_input_shape)\n",
    "\n",
    "encoder_optimizer = tf.keras.optimizers.Adam(learning_rate)\n",
    "generator_optimizer = tf.keras.optimizers.Adam(learning_rate)\n",
    "critic_x_optimizer = tf.keras.optimizers.Adam(learning_rate)\n",
    "critic_z_optimizer = tf.keras.optimizers.Adam(learning_rate)"
   ]
  },
  {
   "cell_type": "code",
   "execution_count": 48,
   "metadata": {},
   "outputs": [],
   "source": [
    "latent_dim = 20\n",
    "shape = (window_size,55)\n",
    "batch_size = 64"
   ]
  },
  {
   "cell_type": "code",
   "execution_count": 49,
   "metadata": {},
   "outputs": [],
   "source": [
    "def critic_x_train_on_batch(x,z):\n",
    "    with tf.GradientTape() as tape:\n",
    "\n",
    "        valid_x = critic_x(x)\n",
    "        x_ = generator(z)\n",
    "        fake_x = critic_x(x_)\n",
    "\n",
    "        alpha = tf.random.uniform([batch_size, 1, 1], 0.0, 1.0)\n",
    "        interpolated = alpha*x + (1-alpha)*x_\n",
    "\n",
    "        with tf.GradientTape() as gp_tape:\n",
    "            gp_tape.watch(interpolated)\n",
    "            pred = critic_x(interpolated)\n",
    "\n",
    "        grads = gp_tape.gradient(pred, interpolated)\n",
    "        grad_norm = tf.norm(tf.reshape(grads, (batch_size, -1)), axis=1)\n",
    "        gp_loss = 10.0*tf.reduce_mean(tf.square(grad_norm -1.))\n",
    "\n",
    "        loss1 = wasserstein_loss(-tf.ones_like(valid_x), valid_x)\n",
    "        loss2 = wasserstein_loss(tf.ones_like(fake_x), fake_x)\n",
    "\n",
    "        loss = loss1 + loss2 + gp_loss\n",
    "\n",
    "    gradients = tape.gradient(loss, critic_x.trainable_weights)\n",
    "    critic_x_optimizer.apply_gradients(zip(gradients, critic_x.trainable_weights))\n",
    "    return loss"
   ]
  },
  {
   "cell_type": "code",
   "execution_count": 50,
   "metadata": {},
   "outputs": [],
   "source": [
    "def critic_z_train_on_batch(x,z):\n",
    "    with tf.GradientTape() as tape:\n",
    "\n",
    "        z_ = encoder(x)\n",
    "        valid_z = critic_z(z)\n",
    "        fake_z = critic_z(z_)\n",
    "\n",
    "        alpha = tf.random.uniform([batch_size, 1, 1], 0.0, 1.0)\n",
    "        interpolated = alpha*z + (1-alpha)*z\n",
    "\n",
    "        with tf.GradientTape() as gp_tape:\n",
    "            gp_tape.watch(interpolated)\n",
    "            pred = critic_z(interpolated, training=True)\n",
    "        \n",
    "        grads = gp_tape.gradient(pred, interpolated)\n",
    "        grad_norm = tf.norm(tf.reshape(grads, (batch_size, -1)), axis=1)\n",
    "        gp_loss = 10.0*tf.reduce_mean(tf.square(grad_norm -1.))\n",
    "\n",
    "        loss1 = wasserstein_loss(-tf.ones_like(valid_z), valid_z)\n",
    "        loss2 = wasserstein_loss(tf.ones_like(fake_z), fake_z)\n",
    "        loss = loss1 + loss2 + gp_loss\n",
    "\n",
    "    gradients = tape.gradient(loss, critic_z.trainable_weights)\n",
    "    critic_z_optimizer.apply_gradients(zip(gradients, critic_z.trainable_weights))\n",
    "    return loss"
   ]
  },
  {
   "cell_type": "code",
   "execution_count": 51,
   "metadata": {},
   "outputs": [],
   "source": [
    "def enc_gen_train_on_batch(x,z):\n",
    "    with tf.GradientTape() as enc_tape:\n",
    "\n",
    "        z_gen_ = encoder(x, training=True)\n",
    "        x_gen_ = generator(z, training=False)\n",
    "        x_gen_rec = generator(z_gen_, training=False)\n",
    "\n",
    "        fake_gen_x = critic_x(x_gen_, training=False)\n",
    "        fake_gen_z = critic_z(z_gen_, training=False)\n",
    "\n",
    "        loss1 = wasserstein_loss(fake_gen_x, -tf.ones_like(fake_gen_x))\n",
    "        loss2 = wasserstein_loss(fake_gen_z, -tf.ones_like(fake_gen_z))\n",
    "        loss3 = 10.0*tf.reduce_mean(tf.keras.losses.MSE(x, x_gen_rec))\n",
    "\n",
    "        enc_loss = loss1 + loss2 + loss3\n",
    "\n",
    "    gradients_encoder = enc_tape.gradient(enc_loss, encoder.trainable_weights)\n",
    "    encoder_optimizer.apply_gradients(zip(gradients_encoder, encoder.trainable_weights))\n",
    "\n",
    "    with tf.GradientTape() as gen_tape:\n",
    "\n",
    "        z_gen_ = encoder(x, training=False)\n",
    "        x_gen_ = generator(z, training=True)\n",
    "        x_gen_rec = generator(z_gen_, training=True)\n",
    "\n",
    "        fake_gen_x = critic_x(x_gen_, training=False)\n",
    "        fake_gen_z = critic_z(z_gen_, training=False)\n",
    "\n",
    "        loss1 = wasserstein_loss(fake_gen_x, -tf.ones_like(fake_gen_x))\n",
    "        loss2 = wasserstein_loss(fake_gen_z, -tf.ones_like(fake_gen_z))\n",
    "        loss3 = 10.0*tf.reduce_mean(tf.keras.losses.MSE(x, x_gen_rec))\n",
    "\n",
    "        gen_loss = loss1 + loss2 + loss3\n",
    "\n",
    "    gradients_generator = gen_tape.gradient(gen_loss, generator.trainable_weights)\n",
    "    generator_optimizer.apply_gradients(zip(gradients_generator, generator.trainable_weights))\n",
    "    return enc_loss, gen_loss"
   ]
  },
  {
   "cell_type": "code",
   "execution_count": 52,
   "metadata": {},
   "outputs": [],
   "source": [
    "n_critics= 5\n",
    "epochs = 50"
   ]
  },
  {
   "cell_type": "code",
   "execution_count": 30,
   "metadata": {},
   "outputs": [],
   "source": [
    "import processing as pr"
   ]
  },
  {
   "cell_type": "code",
   "execution_count": 31,
   "metadata": {},
   "outputs": [
    {
     "name": "stderr",
     "output_type": "stream",
     "text": [
      "100%|██████████| 81/81 [00:00<00:00, 94.40it/s] \n"
     ]
    }
   ],
   "source": [
    "train_set, test_set, label_set = pr.SMAP()"
   ]
  },
  {
   "cell_type": "code",
   "execution_count": 32,
   "metadata": {},
   "outputs": [],
   "source": [
    "train_set = pr.window_overlap(train_set,100)"
   ]
  },
  {
   "cell_type": "code",
   "execution_count": 33,
   "metadata": {},
   "outputs": [
    {
     "data": {
      "text/plain": [
       "(58218, 100, 55)"
      ]
     },
     "execution_count": 33,
     "metadata": {},
     "output_type": "execute_result"
    }
   ],
   "source": [
    "train_set.shape"
   ]
  },
  {
   "cell_type": "code",
   "execution_count": 53,
   "metadata": {},
   "outputs": [],
   "source": [
    "# X = train_dataset.reshape((-1, shape[0], 38))\n",
    "X_ = np.copy(train_set)"
   ]
  },
  {
   "cell_type": "code",
   "execution_count": 54,
   "metadata": {},
   "outputs": [
    {
     "name": "stdout",
     "output_type": "stream",
     "text": [
      "Epoch: 50/50, [Dx loss: -2.358264923095703] [Dz loss: -13.185407638549805] [E loss: 9.720696449279785] [G loss: 8.448671340942383]\n"
     ]
    }
   ],
   "source": [
    "epoch_e_loss = list()\n",
    "epoch_g_loss = list()\n",
    "epoch_cx_loss = list()\n",
    "epoch_cz_loss = list()\n",
    "\n",
    "for epoch in range(1, epochs+1):\n",
    "    \n",
    "    np.random.shuffle(X_)\n",
    "\n",
    "    minibatches_size = batch_size*n_critics\n",
    "    num_minibatches = int(X_.shape[0]//minibatches_size)\n",
    "\n",
    "    encoder.trainable = False\n",
    "    generator.trainable = False\n",
    "\n",
    "    for i in tqdm(range(num_minibatches), total=num_minibatches):\n",
    "        minibatch = X_[i*minibatches_size:(i+1)*minibatches_size]\n",
    "\n",
    "        for j in range(n_critics):\n",
    "\n",
    "            x = minibatch[j*batch_size:(j+1)*batch_size]\n",
    "            z = tf.random.normal(shape=(batch_size, latent_dim, 55), mean=0.0, stddev=1, dtype=tf.dtypes.float32, seed=1748)\n",
    "\n",
    "            critic_x.trainable = True\n",
    "            critic_z.trainable = False\n",
    "            epoch_cx_loss.append(critic_x_train_on_batch(x,z))\n",
    "            critic_x.trainable = False\n",
    "            critic_z.trainable = True\n",
    "            epoch_cz_loss.append(critic_z_train_on_batch(x,z))\n",
    "\n",
    "        critic_z.trainable = False\n",
    "        critic_x.trainable = False\n",
    "        encoder.trainable = True\n",
    "        generator.trainable = True\n",
    "\n",
    "        enc_loss, gen_loss = enc_gen_train_on_batch(x, z)\n",
    "        epoch_e_loss.append(enc_loss)\n",
    "        epoch_g_loss.append(gen_loss)\n",
    "\n",
    "    cx_loss = np.mean(np.array(epoch_cx_loss), axis=0)\n",
    "    cz_loss = np.mean(np.array(epoch_cz_loss), axis=0)\n",
    "    e_loss = np.mean(np.array(epoch_e_loss), axis=0)\n",
    "    g_loss = np.mean(np.array(epoch_g_loss), axis=0)\n",
    "    display.clear_output()\n",
    "\n",
    "    print('Epoch: {}/{}, [Dx loss: {}] [Dz loss: {}] [E loss: {}] [G loss: {}]'.format(epoch, epochs, cx_loss, cz_loss, e_loss, g_loss))"
   ]
  },
  {
   "cell_type": "code",
   "execution_count": 59,
   "metadata": {},
   "outputs": [
    {
     "data": {
      "text/plain": [
       "(73729, 55)"
      ]
     },
     "execution_count": 59,
     "metadata": {},
     "output_type": "execute_result"
    }
   ],
   "source": [
    "test_set.shape"
   ]
  },
  {
   "cell_type": "code",
   "execution_count": 60,
   "metadata": {},
   "outputs": [],
   "source": [
    "test_score = np.copy(test_set)"
   ]
  },
  {
   "cell_type": "code",
   "execution_count": 61,
   "metadata": {},
   "outputs": [],
   "source": [
    "test_set = pr.window_overlap(test_set,100)"
   ]
  },
  {
   "cell_type": "code",
   "execution_count": 87,
   "metadata": {},
   "outputs": [
    {
     "data": {
      "text/plain": [
       "(73630, 100, 55)"
      ]
     },
     "execution_count": 87,
     "metadata": {},
     "output_type": "execute_result"
    }
   ],
   "source": [
    "test_set.shape"
   ]
  },
  {
   "cell_type": "code",
   "execution_count": 88,
   "metadata": {},
   "outputs": [],
   "source": [
    "input = test_set[0:10].reshape(10,100,55)"
   ]
  },
  {
   "cell_type": "code",
   "execution_count": 77,
   "metadata": {},
   "outputs": [
    {
     "data": {
      "text/plain": [
       "TensorShape([10, 100, 55])"
      ]
     },
     "execution_count": 77,
     "metadata": {},
     "output_type": "execute_result"
    }
   ],
   "source": [
    "pred = generator(encoder(input))\n",
    "pred.shape"
   ]
  },
  {
   "cell_type": "code",
   "execution_count": 79,
   "metadata": {},
   "outputs": [
    {
     "data": {
      "text/plain": [
       "<tf.Tensor: shape=(10, 1), dtype=float32, numpy=\n",
       "array([[3.1732674],\n",
       "       [2.8839467],\n",
       "       [3.1584697],\n",
       "       [2.839991 ],\n",
       "       [3.1017733],\n",
       "       [2.8674896],\n",
       "       [3.1018314],\n",
       "       [2.7800775],\n",
       "       [3.103806 ],\n",
       "       [2.797561 ]], dtype=float32)>"
      ]
     },
     "execution_count": 79,
     "metadata": {},
     "output_type": "execute_result"
    }
   ],
   "source": [
    "score = critic_x(input)\n",
    "score"
   ]
  },
  {
   "cell_type": "code",
   "execution_count": 91,
   "metadata": {},
   "outputs": [
    {
     "data": {
      "application/vnd.jupyter.widget-view+json": {
       "model_id": "b12376fc393647fba4751e45d6c3be22",
       "version_major": 2,
       "version_minor": 0
      },
      "text/plain": [
       "  0%|          | 0/7363 [00:00<?, ?it/s]"
      ]
     },
     "metadata": {},
     "output_type": "display_data"
    }
   ],
   "source": [
    "recon_list = list()\n",
    "critic_list = list()\n",
    "for i in tqdm(range(0,73630//10)):\n",
    "    input = test_set[10*i:10*(i+1)].reshape(10,100,55)\n",
    "    pred = generator(encoder(input))\n",
    "    score = critic_x(input)\n",
    "    recon_list.extend(pred)\n",
    "    critic_list.extend(score)"
   ]
  },
  {
   "cell_type": "code",
   "execution_count": 93,
   "metadata": {},
   "outputs": [],
   "source": [
    "recon_list = np.array(recon_list)\n",
    "critic_list = np.array(critic_list)"
   ]
  },
  {
   "cell_type": "code",
   "execution_count": 94,
   "metadata": {},
   "outputs": [
    {
     "data": {
      "text/plain": [
       "(73630, 100, 55)"
      ]
     },
     "execution_count": 94,
     "metadata": {},
     "output_type": "execute_result"
    }
   ],
   "source": [
    "recon_list.shape"
   ]
  },
  {
   "cell_type": "code",
   "execution_count": 97,
   "metadata": {},
   "outputs": [],
   "source": [
    "pred = pr.pred(recon_list)"
   ]
  },
  {
   "cell_type": "code",
   "execution_count": 98,
   "metadata": {},
   "outputs": [
    {
     "data": {
      "text/plain": [
       "(73729, 55)"
      ]
     },
     "execution_count": 98,
     "metadata": {},
     "output_type": "execute_result"
    }
   ],
   "source": [
    "pred.shape"
   ]
  },
  {
   "cell_type": "code",
   "execution_count": 99,
   "metadata": {},
   "outputs": [],
   "source": [
    "kde_score = pr.kde_score(critic_list,100)"
   ]
  },
  {
   "cell_type": "code",
   "execution_count": 100,
   "metadata": {},
   "outputs": [
    {
     "data": {
      "text/plain": [
       "(73729,)"
      ]
     },
     "execution_count": 100,
     "metadata": {},
     "output_type": "execute_result"
    }
   ],
   "source": [
    "kde_score.shape"
   ]
  },
  {
   "cell_type": "code",
   "execution_count": 125,
   "metadata": {},
   "outputs": [],
   "source": [
    "recon_error = abs(pred-test_score)"
   ]
  },
  {
   "cell_type": "code",
   "execution_count": 126,
   "metadata": {},
   "outputs": [],
   "source": [
    "error_score = np.mean(recon_error,axis=1)"
   ]
  },
  {
   "cell_type": "code",
   "execution_count": 127,
   "metadata": {},
   "outputs": [
    {
     "data": {
      "text/plain": [
       "(73729,)"
      ]
     },
     "execution_count": 127,
     "metadata": {},
     "output_type": "execute_result"
    }
   ],
   "source": [
    "error_score.shape"
   ]
  },
  {
   "cell_type": "code",
   "execution_count": 128,
   "metadata": {},
   "outputs": [],
   "source": [
    "error_score = (error_score - np.mean(error_score)) / np.std(error_score)\n",
    "# kde_score = (kde_score - np.mean(kde_score)) / np.std(kde_score)"
   ]
  },
  {
   "cell_type": "code",
   "execution_count": 129,
   "metadata": {},
   "outputs": [],
   "source": [
    "score_set = error_score + kde_score"
   ]
  },
  {
   "cell_type": "code",
   "execution_count": 130,
   "metadata": {},
   "outputs": [
    {
     "ename": "IndexError",
     "evalue": "too many indices for array: array is 1-dimensional, but 2 were indexed",
     "output_type": "error",
     "traceback": [
      "\u001b[0;31m---------------------------------------------------------------------------\u001b[0m",
      "\u001b[0;31mIndexError\u001b[0m                                Traceback (most recent call last)",
      "\u001b[1;32m/home/minseok/workspace/anomaly_detection/TadGAN.ipynb Cell 43'\u001b[0m in \u001b[0;36m<module>\u001b[0;34m\u001b[0m\n\u001b[0;32m----> <a href='vscode-notebook-cell://ssh-remote%2B7b22686f73744e616d65223a223139322e3136382e302e323033222c2275736572223a226d696e73656f6b227d/home/minseok/workspace/anomaly_detection/TadGAN.ipynb#ch0000070vscode-remote?line=0'>1</a>\u001b[0m label_set \u001b[39m=\u001b[39m label_set[:,\u001b[39m1\u001b[39;49m]\n",
      "\u001b[0;31mIndexError\u001b[0m: too many indices for array: array is 1-dimensional, but 2 were indexed"
     ]
    }
   ],
   "source": [
    "label_set = label_set[:,1]"
   ]
  },
  {
   "cell_type": "code",
   "execution_count": 111,
   "metadata": {},
   "outputs": [],
   "source": [
    "from sklearn import metrics\n",
    "import matplotlib.pyplot as plt\n",
    "from sklearn.metrics import roc_curve, auc"
   ]
  },
  {
   "cell_type": "code",
   "execution_count": 131,
   "metadata": {},
   "outputs": [],
   "source": [
    "false_positive_rate, true_positive_rate, thresholds = roc_curve(label_set, score_set)"
   ]
  },
  {
   "cell_type": "code",
   "execution_count": 132,
   "metadata": {},
   "outputs": [],
   "source": [
    "roc_auc = metrics.roc_auc_score(label_set, score_set)"
   ]
  },
  {
   "cell_type": "code",
   "execution_count": 133,
   "metadata": {},
   "outputs": [
    {
     "data": {
      "image/png": "[encoded data removed]",
      "text/plain": [
       "<Figure size 432x288 with 1 Axes>"
      ]
     },
     "metadata": {
      "needs_background": "light"
     },
     "output_type": "display_data"
    }
   ],
   "source": [
    "plt.title('TadGAN(SMAP)')\n",
    "plt.xlabel('False Positive Rate(1 - Specificity)')\n",
    "plt.ylabel('True Positive Rate(Sensitivity)')\n",
    "\n",
    "plt.plot(false_positive_rate, true_positive_rate, 'b', label='Model (AUC = %0.2f)'% roc_auc)\n",
    "plt.plot([0,1],[1,1],'y--')\n",
    "plt.plot([0,1],[0,1],'r--')\n",
    "\n",
    "plt.legend(loc='lower right')\n",
    "plt.savefig('./graph/TadGAN_SMAP.png', dpi=300)\n",
    "plt.show()"
   ]
  }
 ],
 "metadata": {
  "interpreter": {
   "hash": "4ba1222bfa670841c042dcdf032f7735c5fb24ff6800644ba1675dbc0913d334"
  },
  "kernelspec": {
   "display_name": "Python 3.9.7 ('base')",
   "language": "python",
   "name": "python3"
  },
  "language_info": {
   "codemirror_mode": {
    "name": "ipython",
    "version": 3
   },
   "file_extension": ".py",
   "mimetype": "text/x-python",
   "name": "python",
   "nbconvert_exporter": "python",
   "pygments_lexer": "ipython3",
   "version": "3.9.9"
  },
  "orig_nbformat": 4
 },
 "nbformat": 4,
 "nbformat_minor": 2
}
