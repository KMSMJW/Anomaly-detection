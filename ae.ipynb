{
 "cells": [
  {
   "cell_type": "code",
   "execution_count": 1,
   "metadata": {},
   "outputs": [
    {
     "name": "stderr",
     "output_type": "stream",
     "text": [
      "/tmp/ipykernel_3338843/1428232884.py:5: TqdmExperimentalWarning: Using `tqdm.autonotebook.tqdm` in notebook mode. Use `tqdm.tqdm` instead to force console mode (e.g. in jupyter console)\n",
      "  from tqdm.autonotebook import tqdm\n"
     ]
    }
   ],
   "source": [
    "import tensorflow as tf\n",
    "import numpy as np\n",
    "import matplotlib.pyplot as plt\n",
    "import pandas as pd\n",
    "from tqdm.autonotebook import tqdm\n",
    "from IPython import display\n",
    "from scipy.io import wavfile\n",
    "from tensorflow.keras import layers\n",
    "from tensorflow import keras\n",
    "import processing as pr"
   ]
  },
  {
   "cell_type": "code",
   "execution_count": 2,
   "metadata": {},
   "outputs": [
    {
     "name": "stderr",
     "output_type": "stream",
     "text": [
      "2022-04-26 11:35:46.540689: I tensorflow/stream_executor/cuda/cuda_gpu_executor.cc:939] successful NUMA node read from SysFS had negative value (-1), but there must be at least one NUMA node, so returning NUMA node zero\n",
      "2022-04-26 11:35:46.541227: I tensorflow/stream_executor/cuda/cuda_gpu_executor.cc:939] successful NUMA node read from SysFS had negative value (-1), but there must be at least one NUMA node, so returning NUMA node zero\n",
      "2022-04-26 11:35:46.545243: I tensorflow/stream_executor/cuda/cuda_gpu_executor.cc:939] successful NUMA node read from SysFS had negative value (-1), but there must be at least one NUMA node, so returning NUMA node zero\n",
      "2022-04-26 11:35:46.545766: I tensorflow/stream_executor/cuda/cuda_gpu_executor.cc:939] successful NUMA node read from SysFS had negative value (-1), but there must be at least one NUMA node, so returning NUMA node zero\n",
      "2022-04-26 11:35:46.546338: I tensorflow/stream_executor/cuda/cuda_gpu_executor.cc:939] successful NUMA node read from SysFS had negative value (-1), but there must be at least one NUMA node, so returning NUMA node zero\n",
      "2022-04-26 11:35:46.546827: I tensorflow/stream_executor/cuda/cuda_gpu_executor.cc:939] successful NUMA node read from SysFS had negative value (-1), but there must be at least one NUMA node, so returning NUMA node zero\n"
     ]
    }
   ],
   "source": [
    "gpus = tf.config.experimental.list_physical_devices('GPU')\n",
    "if gpus:\n",
    "  # 텐서플로가 첫 번째 GPU만 사용하도록 제한\n",
    "  try:\n",
    "    tf.config.experimental.set_visible_devices(gpus[0], 'GPU')\n",
    "  except RuntimeError as e:\n",
    "    # 프로그램 시작시에 접근 가능한 장치가 설정되어야만 합니다\n",
    "    print(e)"
   ]
  },
  {
   "cell_type": "code",
   "execution_count": 3,
   "metadata": {},
   "outputs": [],
   "source": [
    "#data\n",
    "model_name = \"SMD\""
   ]
  },
  {
   "cell_type": "code",
   "execution_count": 4,
   "metadata": {},
   "outputs": [],
   "source": [
    "train_set, test_set, label_set = pr.SMD()"
   ]
  },
  {
   "cell_type": "code",
   "execution_count": 5,
   "metadata": {},
   "outputs": [
    {
     "name": "stdout",
     "output_type": "stream",
     "text": [
      "yes\n"
     ]
    }
   ],
   "source": [
    "if model_name == \"SMD\" or model_name == \"SWaT\":\n",
    "    print(\"yes\")\n",
    "    train_set, test_set = pr.min_max(train_set, test_set)"
   ]
  },
  {
   "cell_type": "code",
   "execution_count": 6,
   "metadata": {},
   "outputs": [],
   "source": [
    "if model_name == \"SMD\" or model_name == \"SWaT\":\n",
    "    train_set = pr.window_nonoverlap(train_set,100)\n",
    "    test_copy = np.copy(test_set)\n",
    "    test_set = pr.window_nonoverlap(test_set,100)\n",
    "    label_set = pr.label_window(label_set,100)\n",
    "else:\n",
    "    train_set = pr.window_overlap(train_set,100)\n",
    "    test_copy = np.copy(test_set)\n",
    "    test_set = pr.window_overlap(test_set,100)"
   ]
  },
  {
   "cell_type": "code",
   "execution_count": 7,
   "metadata": {},
   "outputs": [
    {
     "data": {
      "text/plain": [
       "(7084, 100, 38)"
      ]
     },
     "execution_count": 7,
     "metadata": {},
     "output_type": "execute_result"
    }
   ],
   "source": [
    "train_set.shape"
   ]
  },
  {
   "cell_type": "code",
   "execution_count": 8,
   "metadata": {},
   "outputs": [],
   "source": [
    "#하이퍼파라미터\n",
    "time_steps = train_set.shape[1]\n",
    "in_channels = train_set.shape[-1]\n",
    "batch_size = 128"
   ]
  },
  {
   "cell_type": "code",
   "execution_count": 9,
   "metadata": {},
   "outputs": [
    {
     "name": "stderr",
     "output_type": "stream",
     "text": [
      "2022-04-26 11:36:31.795861: I tensorflow/core/platform/cpu_feature_guard.cc:151] This TensorFlow binary is optimized with oneAPI Deep Neural Network Library (oneDNN) to use the following CPU instructions in performance-critical operations:  AVX2 FMA\n",
      "To enable them in other operations, rebuild TensorFlow with the appropriate compiler flags.\n",
      "2022-04-26 11:36:31.797380: I tensorflow/stream_executor/cuda/cuda_gpu_executor.cc:939] successful NUMA node read from SysFS had negative value (-1), but there must be at least one NUMA node, so returning NUMA node zero\n",
      "2022-04-26 11:36:31.797947: I tensorflow/stream_executor/cuda/cuda_gpu_executor.cc:939] successful NUMA node read from SysFS had negative value (-1), but there must be at least one NUMA node, so returning NUMA node zero\n",
      "2022-04-26 11:36:31.798437: I tensorflow/stream_executor/cuda/cuda_gpu_executor.cc:939] successful NUMA node read from SysFS had negative value (-1), but there must be at least one NUMA node, so returning NUMA node zero\n",
      "2022-04-26 11:36:32.188967: I tensorflow/stream_executor/cuda/cuda_gpu_executor.cc:939] successful NUMA node read from SysFS had negative value (-1), but there must be at least one NUMA node, so returning NUMA node zero\n",
      "2022-04-26 11:36:32.189491: I tensorflow/stream_executor/cuda/cuda_gpu_executor.cc:939] successful NUMA node read from SysFS had negative value (-1), but there must be at least one NUMA node, so returning NUMA node zero\n",
      "2022-04-26 11:36:32.189972: I tensorflow/stream_executor/cuda/cuda_gpu_executor.cc:939] successful NUMA node read from SysFS had negative value (-1), but there must be at least one NUMA node, so returning NUMA node zero\n",
      "2022-04-26 11:36:32.190439: I tensorflow/core/common_runtime/gpu/gpu_device.cc:1525] Created device /job:localhost/replica:0/task:0/device:GPU:0 with 5128 MB memory:  -> device: 0, name: NVIDIA GeForce RTX 2080 Ti, pci bus id: 0000:04:00.0, compute capability: 7.5\n"
     ]
    }
   ],
   "source": [
    "model = tf.keras.Sequential()\n",
    "model.add(tf.keras.layers.Conv1D(in_channels*2//3, kernel_size=2, padding='valid', strides=2, activation='relu'))\n",
    "model.add(tf.keras.layers.Conv1D(in_channels//3, kernel_size=2, padding='valid', strides=2, activation='relu'))\n",
    "model.add(tf.keras.layers.Conv1DTranspose(in_channels*2//3, kernel_size=2, padding='valid', strides=2, activation='relu'))\n",
    "model.add(tf.keras.layers.Conv1DTranspose(in_channels, kernel_size=2, padding='valid', strides=2, activation='relu'))"
   ]
  },
  {
   "cell_type": "code",
   "execution_count": 10,
   "metadata": {},
   "outputs": [],
   "source": [
    "optimizer = tf.keras.optimizers.Adam(learning_rate=1e-4)"
   ]
  },
  {
   "cell_type": "code",
   "execution_count": 11,
   "metadata": {},
   "outputs": [],
   "source": [
    "model.compile(optimizer, loss=tf.keras.losses.MeanSquaredError())"
   ]
  },
  {
   "cell_type": "code",
   "execution_count": 12,
   "metadata": {},
   "outputs": [
    {
     "name": "stdout",
     "output_type": "stream",
     "text": [
      "Epoch 1/100\n"
     ]
    },
    {
     "name": "stderr",
     "output_type": "stream",
     "text": [
      "2022-04-26 11:36:35.959802: I tensorflow/stream_executor/cuda/cuda_dnn.cc:366] Loaded cuDNN version 8300\n"
     ]
    },
    {
     "name": "stdout",
     "output_type": "stream",
     "text": [
      " 1/56 [..............................] - ETA: 1:19 - loss: 0.0640"
     ]
    },
    {
     "name": "stderr",
     "output_type": "stream",
     "text": [
      "2022-04-26 11:36:36.457571: I tensorflow/core/platform/default/subprocess.cc:304] Start cannot spawn child process: No such file or directory\n"
     ]
    },
    {
     "name": "stdout",
     "output_type": "stream",
     "text": [
      "56/56 [==============================] - 2s 4ms/step - loss: 0.0598\n",
      "Epoch 2/100\n",
      "56/56 [==============================] - 0s 4ms/step - loss: 0.0548\n",
      "Epoch 3/100\n",
      "56/56 [==============================] - 0s 3ms/step - loss: 0.0480\n",
      "Epoch 4/100\n",
      "56/56 [==============================] - 0s 4ms/step - loss: 0.0407\n",
      "Epoch 5/100\n",
      "56/56 [==============================] - 0s 4ms/step - loss: 0.0352\n",
      "Epoch 6/100\n",
      "56/56 [==============================] - 0s 3ms/step - loss: 0.0317\n",
      "Epoch 7/100\n",
      "56/56 [==============================] - 0s 4ms/step - loss: 0.0295\n",
      "Epoch 8/100\n",
      "56/56 [==============================] - 0s 4ms/step - loss: 0.0282\n",
      "Epoch 9/100\n",
      "56/56 [==============================] - 0s 4ms/step - loss: 0.0272\n",
      "Epoch 10/100\n",
      "56/56 [==============================] - 0s 3ms/step - loss: 0.0262\n",
      "Epoch 11/100\n",
      "56/56 [==============================] - 0s 4ms/step - loss: 0.0255\n",
      "Epoch 12/100\n",
      "56/56 [==============================] - 0s 4ms/step - loss: 0.0249\n",
      "Epoch 13/100\n",
      "56/56 [==============================] - 0s 3ms/step - loss: 0.0243\n",
      "Epoch 14/100\n",
      "56/56 [==============================] - 0s 4ms/step - loss: 0.0237\n",
      "Epoch 15/100\n",
      "56/56 [==============================] - 0s 4ms/step - loss: 0.0231\n",
      "Epoch 16/100\n",
      "56/56 [==============================] - 0s 4ms/step - loss: 0.0225\n",
      "Epoch 17/100\n",
      "56/56 [==============================] - 0s 4ms/step - loss: 0.0213\n",
      "Epoch 18/100\n",
      "56/56 [==============================] - 0s 3ms/step - loss: 0.0201\n",
      "Epoch 19/100\n",
      "56/56 [==============================] - 0s 3ms/step - loss: 0.0188\n",
      "Epoch 20/100\n",
      "56/56 [==============================] - 0s 3ms/step - loss: 0.0180\n",
      "Epoch 21/100\n",
      "56/56 [==============================] - 0s 3ms/step - loss: 0.0173\n",
      "Epoch 22/100\n",
      "56/56 [==============================] - 0s 4ms/step - loss: 0.0166\n",
      "Epoch 23/100\n",
      "56/56 [==============================] - 0s 3ms/step - loss: 0.0159\n",
      "Epoch 24/100\n",
      "56/56 [==============================] - 0s 3ms/step - loss: 0.0153\n",
      "Epoch 25/100\n",
      "56/56 [==============================] - 0s 3ms/step - loss: 0.0147\n",
      "Epoch 26/100\n",
      "56/56 [==============================] - 0s 3ms/step - loss: 0.0141\n",
      "Epoch 27/100\n",
      "56/56 [==============================] - 0s 3ms/step - loss: 0.0135\n",
      "Epoch 28/100\n",
      "56/56 [==============================] - 0s 3ms/step - loss: 0.0130\n",
      "Epoch 29/100\n",
      "56/56 [==============================] - 0s 3ms/step - loss: 0.0125\n",
      "Epoch 30/100\n",
      "56/56 [==============================] - 0s 4ms/step - loss: 0.0120\n",
      "Epoch 31/100\n",
      "56/56 [==============================] - 0s 3ms/step - loss: 0.0115\n",
      "Epoch 32/100\n",
      "56/56 [==============================] - 0s 4ms/step - loss: 0.0111\n",
      "Epoch 33/100\n",
      "56/56 [==============================] - 0s 4ms/step - loss: 0.0108\n",
      "Epoch 34/100\n",
      "56/56 [==============================] - 0s 4ms/step - loss: 0.0105\n",
      "Epoch 35/100\n",
      "56/56 [==============================] - 0s 4ms/step - loss: 0.0102\n",
      "Epoch 36/100\n",
      "56/56 [==============================] - 0s 4ms/step - loss: 0.0100\n",
      "Epoch 37/100\n",
      "56/56 [==============================] - 0s 4ms/step - loss: 0.0097\n",
      "Epoch 38/100\n",
      "56/56 [==============================] - 0s 4ms/step - loss: 0.0095\n",
      "Epoch 39/100\n",
      "56/56 [==============================] - 0s 4ms/step - loss: 0.0093\n",
      "Epoch 40/100\n",
      "56/56 [==============================] - 0s 4ms/step - loss: 0.0092\n",
      "Epoch 41/100\n",
      "56/56 [==============================] - 0s 4ms/step - loss: 0.0090\n",
      "Epoch 42/100\n",
      "56/56 [==============================] - 0s 3ms/step - loss: 0.0089\n",
      "Epoch 43/100\n",
      "56/56 [==============================] - 0s 4ms/step - loss: 0.0088\n",
      "Epoch 44/100\n",
      "56/56 [==============================] - 0s 4ms/step - loss: 0.0086\n",
      "Epoch 45/100\n",
      "56/56 [==============================] - 0s 4ms/step - loss: 0.0085\n",
      "Epoch 46/100\n",
      "56/56 [==============================] - 0s 4ms/step - loss: 0.0084\n",
      "Epoch 47/100\n",
      "56/56 [==============================] - 0s 4ms/step - loss: 0.0083\n",
      "Epoch 48/100\n",
      "56/56 [==============================] - 0s 3ms/step - loss: 0.0082\n",
      "Epoch 49/100\n",
      "56/56 [==============================] - 0s 4ms/step - loss: 0.0081\n",
      "Epoch 50/100\n",
      "56/56 [==============================] - 0s 4ms/step - loss: 0.0080\n",
      "Epoch 51/100\n",
      "56/56 [==============================] - 0s 3ms/step - loss: 0.0079\n",
      "Epoch 52/100\n",
      "56/56 [==============================] - 0s 4ms/step - loss: 0.0078\n",
      "Epoch 53/100\n",
      "56/56 [==============================] - 0s 3ms/step - loss: 0.0077\n",
      "Epoch 54/100\n",
      "56/56 [==============================] - 0s 3ms/step - loss: 0.0077\n",
      "Epoch 55/100\n",
      "56/56 [==============================] - 0s 4ms/step - loss: 0.0076\n",
      "Epoch 56/100\n",
      "56/56 [==============================] - 0s 3ms/step - loss: 0.0076\n",
      "Epoch 57/100\n",
      "56/56 [==============================] - 0s 4ms/step - loss: 0.0075\n",
      "Epoch 58/100\n",
      "56/56 [==============================] - 0s 4ms/step - loss: 0.0074\n",
      "Epoch 59/100\n",
      "56/56 [==============================] - 0s 3ms/step - loss: 0.0074\n",
      "Epoch 60/100\n",
      "56/56 [==============================] - 0s 3ms/step - loss: 0.0073\n",
      "Epoch 61/100\n",
      "56/56 [==============================] - 0s 3ms/step - loss: 0.0073\n",
      "Epoch 62/100\n",
      "56/56 [==============================] - 0s 3ms/step - loss: 0.0072\n",
      "Epoch 63/100\n",
      "56/56 [==============================] - 0s 3ms/step - loss: 0.0072\n",
      "Epoch 64/100\n",
      "56/56 [==============================] - 0s 3ms/step - loss: 0.0072\n",
      "Epoch 65/100\n",
      "56/56 [==============================] - 0s 4ms/step - loss: 0.0071\n",
      "Epoch 66/100\n",
      "56/56 [==============================] - 0s 3ms/step - loss: 0.0071\n",
      "Epoch 67/100\n",
      "56/56 [==============================] - 0s 3ms/step - loss: 0.0070\n",
      "Epoch 68/100\n",
      "56/56 [==============================] - 0s 3ms/step - loss: 0.0070\n",
      "Epoch 69/100\n",
      "56/56 [==============================] - 0s 4ms/step - loss: 0.0070\n",
      "Epoch 70/100\n",
      "56/56 [==============================] - 0s 3ms/step - loss: 0.0070\n",
      "Epoch 71/100\n",
      "56/56 [==============================] - 0s 3ms/step - loss: 0.0069\n",
      "Epoch 72/100\n",
      "56/56 [==============================] - 0s 3ms/step - loss: 0.0069\n",
      "Epoch 73/100\n",
      "56/56 [==============================] - 0s 4ms/step - loss: 0.0069\n",
      "Epoch 74/100\n",
      "56/56 [==============================] - 0s 3ms/step - loss: 0.0068\n",
      "Epoch 75/100\n",
      "56/56 [==============================] - 0s 3ms/step - loss: 0.0068\n",
      "Epoch 76/100\n",
      "56/56 [==============================] - 0s 3ms/step - loss: 0.0068\n",
      "Epoch 77/100\n",
      "56/56 [==============================] - 0s 4ms/step - loss: 0.0068\n",
      "Epoch 78/100\n",
      "56/56 [==============================] - 0s 3ms/step - loss: 0.0068\n",
      "Epoch 79/100\n",
      "56/56 [==============================] - 0s 3ms/step - loss: 0.0067\n",
      "Epoch 80/100\n",
      "56/56 [==============================] - 0s 3ms/step - loss: 0.0067\n",
      "Epoch 81/100\n",
      "56/56 [==============================] - 0s 3ms/step - loss: 0.0067\n",
      "Epoch 82/100\n",
      "56/56 [==============================] - 0s 3ms/step - loss: 0.0067\n",
      "Epoch 83/100\n",
      "56/56 [==============================] - 0s 3ms/step - loss: 0.0067\n",
      "Epoch 84/100\n",
      "56/56 [==============================] - 0s 4ms/step - loss: 0.0066\n",
      "Epoch 85/100\n",
      "56/56 [==============================] - 0s 3ms/step - loss: 0.0066\n",
      "Epoch 86/100\n",
      "56/56 [==============================] - 0s 3ms/step - loss: 0.0066\n",
      "Epoch 87/100\n",
      "56/56 [==============================] - 0s 3ms/step - loss: 0.0066\n",
      "Epoch 88/100\n",
      "56/56 [==============================] - 0s 3ms/step - loss: 0.0066\n",
      "Epoch 89/100\n",
      "56/56 [==============================] - 0s 4ms/step - loss: 0.0065\n",
      "Epoch 90/100\n",
      "56/56 [==============================] - 0s 4ms/step - loss: 0.0065\n",
      "Epoch 91/100\n",
      "56/56 [==============================] - 0s 3ms/step - loss: 0.0065\n",
      "Epoch 92/100\n",
      "56/56 [==============================] - 0s 3ms/step - loss: 0.0065\n",
      "Epoch 93/100\n",
      "56/56 [==============================] - 0s 3ms/step - loss: 0.0065\n",
      "Epoch 94/100\n",
      "56/56 [==============================] - 0s 3ms/step - loss: 0.0065\n",
      "Epoch 95/100\n",
      "56/56 [==============================] - 0s 3ms/step - loss: 0.0064\n",
      "Epoch 96/100\n",
      "56/56 [==============================] - 0s 3ms/step - loss: 0.0064\n",
      "Epoch 97/100\n",
      "56/56 [==============================] - 0s 3ms/step - loss: 0.0064\n",
      "Epoch 98/100\n",
      "56/56 [==============================] - 0s 3ms/step - loss: 0.0064\n",
      "Epoch 99/100\n",
      "56/56 [==============================] - 0s 3ms/step - loss: 0.0064\n",
      "Epoch 100/100\n",
      "56/56 [==============================] - 0s 3ms/step - loss: 0.0064\n"
     ]
    },
    {
     "data": {
      "text/plain": [
       "<keras.callbacks.History at 0x7f157c7c6d60>"
      ]
     },
     "execution_count": 12,
     "metadata": {},
     "output_type": "execute_result"
    }
   ],
   "source": [
    "model.fit(train_set,train_set,batch_size=128,epochs=100,verbose=1)"
   ]
  },
  {
   "cell_type": "code",
   "execution_count": 13,
   "metadata": {},
   "outputs": [
    {
     "name": "stderr",
     "output_type": "stream",
     "text": [
      "2022-04-26 11:37:13.294550: W tensorflow/python/util/util.cc:368] Sets are not currently considered sequences, but this may change in the future, so consider avoiding using them.\n"
     ]
    },
    {
     "name": "stdout",
     "output_type": "stream",
     "text": [
      "INFO:tensorflow:Assets written to: ./model/AE_SMD/assets\n"
     ]
    }
   ],
   "source": [
    "model.save('./model/AE_' + model_name)"
   ]
  },
  {
   "cell_type": "code",
   "execution_count": 14,
   "metadata": {},
   "outputs": [],
   "source": [
    "from sklearn import metrics\n",
    "import matplotlib.pyplot as plt\n",
    "from sklearn.metrics import roc_curve, auc"
   ]
  },
  {
   "cell_type": "code",
   "execution_count": 15,
   "metadata": {},
   "outputs": [
    {
     "ename": "IndexError",
     "evalue": "tuple index out of range",
     "output_type": "error",
     "traceback": [
      "\u001b[0;31m---------------------------------------------------------------------------\u001b[0m",
      "\u001b[0;31mIndexError\u001b[0m                                Traceback (most recent call last)",
      "\u001b[1;32m/home/minseok/workspace/anomaly_detection/ae.ipynb Cell 15'\u001b[0m in \u001b[0;36m<module>\u001b[0;34m\u001b[0m\n\u001b[0;32m----> <a href='vscode-notebook-cell://ssh-remote%2B7b22686f73744e616d65223a223139322e3136382e302e323033222c2275736572223a226d696e73656f6b227d/home/minseok/workspace/anomaly_detection/ae.ipynb#ch0000033vscode-remote?line=0'>1</a>\u001b[0m \u001b[39mif\u001b[39;00m label_set\u001b[39m.\u001b[39;49mshape[\u001b[39m1\u001b[39;49m] \u001b[39m==\u001b[39m \u001b[39m2\u001b[39m:\n\u001b[1;32m      <a href='vscode-notebook-cell://ssh-remote%2B7b22686f73744e616d65223a223139322e3136382e302e323033222c2275736572223a226d696e73656f6b227d/home/minseok/workspace/anomaly_detection/ae.ipynb#ch0000033vscode-remote?line=1'>2</a>\u001b[0m     label_set \u001b[39m=\u001b[39m label_set[:,\u001b[39m1\u001b[39m]\n",
      "\u001b[0;31mIndexError\u001b[0m: tuple index out of range"
     ]
    }
   ],
   "source": [
    "if label_set.shape[1] == 2:\n",
    "    label_set = label_set[:,1]"
   ]
  },
  {
   "cell_type": "code",
   "execution_count": 16,
   "metadata": {},
   "outputs": [
    {
     "data": {
      "application/vnd.jupyter.widget-view+json": {
       "model_id": "8a39ba46040742518e4cf707e7f37008",
       "version_major": 2,
       "version_minor": 0
      },
      "text/plain": [
       "  0%|          | 0/7084 [00:00<?, ?it/s]"
      ]
     },
     "metadata": {},
     "output_type": "display_data"
    }
   ],
   "source": [
    "if model_name == \"SMD\" or  model_name == \"SWaT\":\n",
    "    reconstruct_set = list()\n",
    "    for i in tqdm(test_set):\n",
    "        input = np.array([i])\n",
    "        recon = model(input)\n",
    "        reconstruct_set.extend(recon)\n",
    "else:\n",
    "    num = test_set.shape[0] // 100\n",
    "    reconstruct_set = list()\n",
    "    for i in tqdm(range(0,num)):\n",
    "        i = test_set[i*100:(i+1)*100]\n",
    "        recon = model(i)\n",
    "        reconstruct_set.extend(recon)\n",
    "    i = test_set[num*100:]\n",
    "    recon = model(i)\n",
    "    reconstruct_set.extend(recon)"
   ]
  },
  {
   "cell_type": "code",
   "execution_count": 17,
   "metadata": {},
   "outputs": [],
   "source": [
    "reconstruct_set = np.array(reconstruct_set)"
   ]
  },
  {
   "cell_type": "code",
   "execution_count": 18,
   "metadata": {},
   "outputs": [],
   "source": [
    "if model_name == \"SMD\" or  model_name == \"SWaT\":\n",
    "    recon_error = np.mean((reconstruct_set-test_set)**2, axis=1)\n",
    "    error_score = np.mean(recon_error, axis=-1)\n",
    "    score_set = error_score\n",
    "else:\n",
    "    pred = pr.pred(reconstruct_set)\n",
    "    recon_error = (pred-test_copy)**2\n",
    "    error_score = np.mean(recon_error,axis=1)\n",
    "    score_set = error_score"
   ]
  },
  {
   "cell_type": "code",
   "execution_count": 19,
   "metadata": {},
   "outputs": [],
   "source": [
    "false_positive_rate, true_positive_rate, thresholds = roc_curve(label_set, score_set)"
   ]
  },
  {
   "cell_type": "code",
   "execution_count": 20,
   "metadata": {},
   "outputs": [],
   "source": [
    "roc_auc = metrics.roc_auc_score(label_set, score_set)"
   ]
  },
  {
   "cell_type": "code",
   "execution_count": 21,
   "metadata": {},
   "outputs": [
    {
     "data": {
      "image/png": "[encoded data removed]",
      "text/plain": [
       "<Figure size 432x288 with 1 Axes>"
      ]
     },
     "metadata": {
      "needs_background": "light"
     },
     "output_type": "display_data"
    }
   ],
   "source": [
    "plt.title('ae(' + model_name + ')')\n",
    "plt.xlabel('False Positive Rate(1 - Specificity)')\n",
    "plt.ylabel('True Positive Rate(Sensitivity)')\n",
    "\n",
    "plt.plot(false_positive_rate, true_positive_rate, 'b', label='Model (AUC = %0.2f)'% roc_auc)\n",
    "plt.plot([0,1],[1,1],'y--')\n",
    "plt.plot([0,1],[0,1],'r--')\n",
    "\n",
    "plt.legend(loc='lower right')\n",
    "plt.savefig('./graph/ae_' + model_name + '.png', dpi=300)\n",
    "plt.show()"
   ]
  },
  {
   "cell_type": "code",
   "execution_count": null,
   "metadata": {},
   "outputs": [],
   "source": []
  }
 ],
 "metadata": {
  "interpreter": {
   "hash": "005a30296ab2bc7624c3e9ad73d091d0cb177eab5ae69cb428a4640cabcd96d6"
  },
  "kernelspec": {
   "display_name": "Python 3.9.9 ('tf27')",
   "language": "python",
   "name": "python3"
  },
  "language_info": {
   "codemirror_mode": {
    "name": "ipython",
    "version": 3
   },
   "file_extension": ".py",
   "mimetype": "text/x-python",
   "name": "python",
   "nbconvert_exporter": "python",
   "pygments_lexer": "ipython3",
   "version": "3.9.9"
  },
  "orig_nbformat": 4
 },
 "nbformat": 4,
 "nbformat_minor": 2
}
