{
 "cells": [
  {
   "cell_type": "code",
   "execution_count": 1,
   "metadata": {},
   "outputs": [],
   "source": [
    "import processing as pr"
   ]
  },
  {
   "cell_type": "code",
   "execution_count": 2,
   "metadata": {},
   "outputs": [],
   "source": [
    "import math\n",
    "import numpy as np"
   ]
  },
  {
   "cell_type": "code",
   "execution_count": 3,
   "metadata": {},
   "outputs": [],
   "source": [
    "import torch\n",
    "import torch.nn as nn\n",
    "import torch.nn.functional as F\n",
    "from torch.nn.utils import weight_norm\n",
    "import math"
   ]
  },
  {
   "cell_type": "code",
   "execution_count": 4,
   "metadata": {},
   "outputs": [],
   "source": [
    "class PositionalEmbedding(nn.Module):\n",
    "    def __init__(self, d_model, max_len=5000):\n",
    "        super(PositionalEmbedding, self).__init__()\n",
    "        # Compute the positional encodings once in log space.\n",
    "        pe = torch.zeros(max_len, d_model).float()\n",
    "        pe.require_grad = False\n",
    "\n",
    "        position = torch.arange(0, max_len).float().unsqueeze(1)\n",
    "        div_term = (torch.arange(0, d_model, 2).float() * -(math.log(10000.0) / d_model)).exp()\n",
    "\n",
    "        pe[:, 0::2] = torch.sin(position * div_term)\n",
    "        pe[:, 1::2] = torch.cos(position * div_term)\n",
    "\n",
    "        pe = pe.unsqueeze(0)\n",
    "        self.register_buffer('pe', pe)\n",
    "\n",
    "    def forward(self, x):\n",
    "        return self.pe[:, :x.size(1)]"
   ]
  },
  {
   "cell_type": "code",
   "execution_count": 5,
   "metadata": {},
   "outputs": [],
   "source": [
    "class TokenEmbedding(nn.Module):\n",
    "    def __init__(self, c_in, d_model):\n",
    "        super(TokenEmbedding, self).__init__()\n",
    "        padding = 1 if torch.__version__ >= '1.5.0' else 2\n",
    "        self.tokenConv = nn.Conv1d(in_channels=c_in, out_channels=d_model,\n",
    "                                   kernel_size=3, padding=padding, padding_mode='circular', bias=False)\n",
    "        for m in self.modules():\n",
    "            if isinstance(m, nn.Conv1d):\n",
    "                nn.init.kaiming_normal_(m.weight, mode='fan_in', nonlinearity='leaky_relu')\n",
    "\n",
    "    def forward(self, x):\n",
    "        x = self.tokenConv(x.permute(0, 2, 1)).transpose(1, 2)\n",
    "        return x"
   ]
  },
  {
   "cell_type": "code",
   "execution_count": 6,
   "metadata": {},
   "outputs": [],
   "source": [
    "class DataEmbedding(nn.Module):\n",
    "    def __init__(self, c_in, d_model, dropout=0.0):\n",
    "        super(DataEmbedding, self).__init__()\n",
    "\n",
    "        self.value_embedding = TokenEmbedding(c_in=c_in, d_model=d_model)\n",
    "        self.position_embedding = PositionalEmbedding(d_model=d_model)\n",
    "\n",
    "        self.dropout = nn.Dropout(p=dropout)\n",
    "\n",
    "    def forward(self, x):\n",
    "        x = self.value_embedding(x) + self.position_embedding(x)\n",
    "        return self.dropout(x)"
   ]
  },
  {
   "cell_type": "code",
   "execution_count": 7,
   "metadata": {},
   "outputs": [],
   "source": [
    "class TriangularCausalMask():\n",
    "    def __init__(self, B, L, device=\"cpu\"):\n",
    "        mask_shape = [B, 1, L, L]\n",
    "        with torch.no_grad():\n",
    "            self._mask = torch.triu(torch.ones(mask_shape, dtype=torch.bool), diagonal=1).to(device)\n",
    "\n",
    "    @property\n",
    "    def mask(self):\n",
    "        return self._mask"
   ]
  },
  {
   "cell_type": "code",
   "execution_count": 8,
   "metadata": {},
   "outputs": [],
   "source": [
    "import torch\n",
    "import torch.nn as nn\n",
    "import torch.nn.functional as F\n",
    "import numpy as np\n",
    "import math\n",
    "from math import sqrt\n",
    "import os"
   ]
  },
  {
   "cell_type": "code",
   "execution_count": 9,
   "metadata": {},
   "outputs": [],
   "source": [
    "class AnomalyAttention(nn.Module):\n",
    "    def __init__(self, win_size, mask_flag=True, scale=None, attention_dropout=0.0, output_attention=False):\n",
    "        super(AnomalyAttention, self).__init__()\n",
    "        self.scale = scale\n",
    "        self.mask_flag = mask_flag\n",
    "        self.output_attention = output_attention\n",
    "        self.dropout = nn.Dropout(attention_dropout)\n",
    "        window_size = win_size\n",
    "        self.distances = torch.zeros((window_size, window_size))\n",
    "        for i in range(window_size):\n",
    "            for j in range(window_size):\n",
    "                self.distances[i][j] = abs(i - j)\n",
    "\n",
    "    def forward(self, queries, keys, values, sigma, attn_mask):\n",
    "        B, L, H, E = queries.shape\n",
    "        _, S, _, D = values.shape\n",
    "        scale = self.scale or 1. / sqrt(E)\n",
    "\n",
    "        scores = torch.einsum(\"blhe,bshe->bhls\", queries, keys)\n",
    "        if self.mask_flag:\n",
    "            if attn_mask is None:\n",
    "                attn_mask = TriangularCausalMask(B, L, device=queries.device)\n",
    "            scores.masked_fill_(attn_mask.mask, -np.inf)\n",
    "        attn = scale * scores\n",
    "\n",
    "        sigma = sigma.transpose(1, 2)  # B L H ->  B H L\n",
    "        window_size = attn.shape[-1]\n",
    "        sigma = torch.sigmoid(sigma * 5) + 1e-5\n",
    "        sigma = torch.pow(3, sigma) - 1\n",
    "        sigma = sigma.unsqueeze(-1).repeat(1, 1, 1, window_size)  # B H L L\n",
    "        prior = self.distances.unsqueeze(0).unsqueeze(0).repeat(sigma.shape[0], sigma.shape[1], 1, 1)\n",
    "        prior = 1.0 / (math.sqrt(2 * math.pi) * sigma) * torch.exp(-prior ** 2 / 2 / (sigma ** 2))\n",
    "\n",
    "        series = self.dropout(torch.softmax(attn, dim=-1))\n",
    "        V = torch.einsum(\"bhls,bshd->blhd\", series, values)\n",
    "\n",
    "        if self.output_attention:\n",
    "            return (V.contiguous(), series, prior, sigma)\n",
    "        else:\n",
    "            return (V.contiguous(), None)"
   ]
  },
  {
   "cell_type": "code",
   "execution_count": 10,
   "metadata": {},
   "outputs": [],
   "source": [
    "class AttentionLayer(nn.Module):\n",
    "    def __init__(self, attention, d_model, n_heads, d_keys=None,\n",
    "                 d_values=None):\n",
    "        super(AttentionLayer, self).__init__()\n",
    "\n",
    "        d_keys = d_keys or (d_model // n_heads)\n",
    "        d_values = d_values or (d_model // n_heads)\n",
    "        self.norm = nn.LayerNorm(d_model)\n",
    "        self.inner_attention = attention\n",
    "        self.query_projection = nn.Linear(d_model,\n",
    "                                          d_keys * n_heads)\n",
    "        self.key_projection = nn.Linear(d_model,\n",
    "                                        d_keys * n_heads)\n",
    "        self.value_projection = nn.Linear(d_model,\n",
    "                                          d_values * n_heads)\n",
    "        self.sigma_projection = nn.Linear(d_model,\n",
    "                                          n_heads)\n",
    "        self.out_projection = nn.Linear(d_values * n_heads, d_model)\n",
    "\n",
    "        self.n_heads = n_heads\n",
    "\n",
    "    def forward(self, queries, keys, values, attn_mask):\n",
    "        B, L, _ = queries.shape\n",
    "        _, S, _ = keys.shape\n",
    "        H = self.n_heads\n",
    "        x = queries\n",
    "        queries = self.query_projection(queries).view(B, L, H, -1)\n",
    "        keys = self.key_projection(keys).view(B, S, H, -1)\n",
    "        values = self.value_projection(values).view(B, S, H, -1)\n",
    "        sigma = self.sigma_projection(x).view(B, L, H)\n",
    "\n",
    "        out, series, prior, sigma = self.inner_attention(\n",
    "            queries,\n",
    "            keys,\n",
    "            values,\n",
    "            sigma,\n",
    "            attn_mask\n",
    "        )\n",
    "        out = out.view(B, L, -1)\n",
    "\n",
    "        return self.out_projection(out), series, prior, sigma"
   ]
  },
  {
   "cell_type": "code",
   "execution_count": 11,
   "metadata": {},
   "outputs": [],
   "source": [
    "class EncoderLayer(nn.Module):\n",
    "    def __init__(self, attention, d_model, d_ff=None, dropout=0.1, activation=\"relu\"):\n",
    "        super(EncoderLayer, self).__init__()\n",
    "        d_ff = d_ff or 4 * d_model\n",
    "        self.attention = attention\n",
    "        self.conv1 = nn.Conv1d(in_channels=d_model, out_channels=d_ff, kernel_size=1)\n",
    "        self.conv2 = nn.Conv1d(in_channels=d_ff, out_channels=d_model, kernel_size=1)\n",
    "        self.norm1 = nn.LayerNorm(d_model)\n",
    "        self.norm2 = nn.LayerNorm(d_model)\n",
    "        self.dropout = nn.Dropout(dropout)\n",
    "        self.activation = F.relu if activation == \"relu\" else F.gelu\n",
    "\n",
    "    def forward(self, x, attn_mask=None):\n",
    "        new_x, attn, mask, sigma = self.attention(\n",
    "            x, x, x,\n",
    "            attn_mask=attn_mask\n",
    "        )\n",
    "        x = x + self.dropout(new_x)\n",
    "        y = x = self.norm1(x)\n",
    "        y = self.dropout(self.activation(self.conv1(y.transpose(-1, 1))))\n",
    "        y = self.dropout(self.conv2(y).transpose(-1, 1))\n",
    "\n",
    "        return self.norm2(x + y), attn, mask, sigma"
   ]
  },
  {
   "cell_type": "code",
   "execution_count": 12,
   "metadata": {},
   "outputs": [],
   "source": [
    "class Encoder(nn.Module):\n",
    "    def __init__(self, attn_layers, norm_layer=None):\n",
    "        super(Encoder, self).__init__()\n",
    "        self.attn_layers = nn.ModuleList(attn_layers)\n",
    "        self.norm = norm_layer\n",
    "\n",
    "    def forward(self, x, attn_mask=None):\n",
    "        # x [B, L, D]\n",
    "        series_list = []\n",
    "        prior_list = []\n",
    "        sigma_list = []\n",
    "        for attn_layer in self.attn_layers:\n",
    "            x, series, prior, sigma = attn_layer(x, attn_mask=attn_mask)\n",
    "            series_list.append(series)\n",
    "            prior_list.append(prior)\n",
    "            sigma_list.append(sigma)\n",
    "\n",
    "        if self.norm is not None:\n",
    "            x = self.norm(x)\n",
    "\n",
    "        return x, series_list, prior_list, sigma_list"
   ]
  },
  {
   "cell_type": "code",
   "execution_count": 13,
   "metadata": {},
   "outputs": [],
   "source": [
    "class AnomalyTransformer(nn.Module):\n",
    "    def __init__(self, win_size, enc_in, c_out, d_model=512, n_heads=8, e_layers=3, d_ff=512,\n",
    "                 dropout=0.0, activation='gelu', output_attention=True):\n",
    "        super(AnomalyTransformer, self).__init__()\n",
    "        self.output_attention = output_attention\n",
    "\n",
    "        # Encoding\n",
    "        self.embedding = DataEmbedding(enc_in, d_model, dropout)\n",
    "\n",
    "        # Encoder\n",
    "        self.encoder = Encoder(\n",
    "            [\n",
    "                EncoderLayer(\n",
    "                    AttentionLayer(\n",
    "                        AnomalyAttention(win_size, False, attention_dropout=dropout, output_attention=output_attention),\n",
    "                        d_model, n_heads),\n",
    "                    d_model,\n",
    "                    d_ff,\n",
    "                    dropout=dropout,\n",
    "                    activation=activation\n",
    "                ) for l in range(e_layers)\n",
    "            ],\n",
    "            norm_layer=torch.nn.LayerNorm(d_model)\n",
    "        )\n",
    "\n",
    "        self.projection = nn.Linear(d_model, c_out, bias=True)\n",
    "\n",
    "    def forward(self, x):\n",
    "        enc_out = self.embedding(x)\n",
    "        enc_out, series, prior, sigmas = self.encoder(enc_out)\n",
    "        enc_out = self.projection(enc_out)\n",
    "\n",
    "        if self.output_attention:\n",
    "            return enc_out, series, prior, sigmas\n",
    "        else:\n",
    "            return enc_out  # [B, L, D]"
   ]
  },
  {
   "cell_type": "code",
   "execution_count": 14,
   "metadata": {},
   "outputs": [],
   "source": [
    "def my_kl_loss(p, q):\n",
    "    res = p * (torch.log(p + 0.0001) - torch.log(q + 0.0001))\n",
    "    return torch.mean(torch.sum(res, dim=-1), dim=1)"
   ]
  },
  {
   "cell_type": "code",
   "execution_count": 15,
   "metadata": {},
   "outputs": [],
   "source": [
    "import time"
   ]
  },
  {
   "cell_type": "code",
   "execution_count": 16,
   "metadata": {},
   "outputs": [],
   "source": [
    "model_save_path = \"C:/Users/minseok/Desktop/project/Anomaly-detection/anomaly_detection/train/torch_save\""
   ]
  },
  {
   "cell_type": "code",
   "execution_count": 17,
   "metadata": {},
   "outputs": [],
   "source": [
    "class EarlyStopping:\n",
    "    def __init__(self, patience=7, verbose=False, dataset_name='', delta=0):\n",
    "        self.patience = patience\n",
    "        self.verbose = verbose\n",
    "        self.counter = 0\n",
    "        self.best_score = None\n",
    "        self.best_score2 = None\n",
    "        self.early_stop = False\n",
    "        self.val_loss_min = np.Inf\n",
    "        self.val_loss2_min = np.Inf\n",
    "        self.delta = delta\n",
    "        self.dataset = dataset_name\n",
    "\n",
    "    def __call__(self, val_loss, val_loss2, model, path):\n",
    "        score = -val_loss\n",
    "        score2 = -val_loss2\n",
    "        if self.best_score is None:\n",
    "            self.best_score = score\n",
    "            self.best_score2 = score2\n",
    "            self.save_checkpoint(val_loss, val_loss2, model, path)\n",
    "        elif score < self.best_score + self.delta or score2 < self.best_score2 + self.delta:\n",
    "            self.counter += 1\n",
    "            print(f'EarlyStopping counter: {self.counter} out of {self.patience}')\n",
    "            if self.counter >= self.patience:\n",
    "                self.early_stop = True\n",
    "        else:\n",
    "            self.best_score = score\n",
    "            self.best_score2 = score2\n",
    "            self.save_checkpoint(val_loss, val_loss2, model, path)\n",
    "            self.counter = 0\n",
    "\n",
    "    def save_checkpoint(self, val_loss, val_loss2, model, path):\n",
    "        if self.verbose:\n",
    "            print(f'Validation loss decreased ({self.val_loss_min:.6f} --> {val_loss:.6f}).  Saving model ...')\n",
    "        torch.save(model.state_dict(), os.path.join(path, str(self.dataset) + '_checkpoint.pth'))\n",
    "        self.val_loss_min = val_loss\n",
    "        self.val_loss2_min = val_loss2"
   ]
  },
  {
   "cell_type": "code",
   "execution_count": 18,
   "metadata": {},
   "outputs": [],
   "source": [
    "dataset = 'SMD'"
   ]
  },
  {
   "cell_type": "code",
   "execution_count": 19,
   "metadata": {},
   "outputs": [],
   "source": [
    "data_path = \"C:/Users/minseok/Desktop/project/Anomaly-detection/anomaly_detection/train/data_set/SMD\""
   ]
  },
  {
   "cell_type": "code",
   "execution_count": 20,
   "metadata": {},
   "outputs": [],
   "source": [
    "from sklearn.preprocessing import StandardScaler\n",
    "from torch.utils.data import DataLoader"
   ]
  },
  {
   "cell_type": "code",
   "execution_count": 21,
   "metadata": {},
   "outputs": [],
   "source": [
    "class SMDSegLoader(object):\n",
    "    def __init__(self, data_path, win_size, step, mode=\"train\"):\n",
    "        self.mode = mode\n",
    "        self.step = step\n",
    "        self.win_size = win_size\n",
    "        self.scaler = StandardScaler()\n",
    "        data = np.load(data_path + \"/SMD_train.npy\")\n",
    "        self.scaler.fit(data)\n",
    "        data = self.scaler.transform(data)\n",
    "        test_data = np.load(data_path + \"/SMD_test.npy\")\n",
    "        self.test = self.scaler.transform(test_data)\n",
    "        self.train = data\n",
    "        data_len = len(self.train)\n",
    "        self.val = self.train[(int)(data_len * 0.8):]\n",
    "        self.test_labels = np.load(data_path + \"/SMD_test_label.npy\")\n",
    "\n",
    "    def __len__(self):\n",
    "\n",
    "        if self.mode == \"train\":\n",
    "            return (self.train.shape[0] - self.win_size) // self.step + 1\n",
    "        elif (self.mode == 'val'):\n",
    "            return (self.val.shape[0] - self.win_size) // self.step + 1\n",
    "        elif (self.mode == 'test'):\n",
    "            return (self.test.shape[0] - self.win_size) // self.step + 1\n",
    "        else:\n",
    "            return (self.test.shape[0] - self.win_size) // self.win_size + 1\n",
    "\n",
    "    def __getitem__(self, index):\n",
    "        index = index * self.step\n",
    "        if self.mode == \"train\":\n",
    "            return np.float32(self.train[index:index + self.win_size]), np.float32(self.test_labels[0:self.win_size])\n",
    "        elif (self.mode == 'val'):\n",
    "            return np.float32(self.val[index:index + self.win_size]), np.float32(self.test_labels[0:self.win_size])\n",
    "        elif (self.mode == 'test'):\n",
    "            return np.float32(self.test[index:index + self.win_size]), np.float32(\n",
    "                self.test_labels[index:index + self.win_size])\n",
    "        else:\n",
    "            return np.float32(self.test[\n",
    "                              index // self.step * self.win_size:index // self.step * self.win_size + self.win_size]), np.float32(\n",
    "                self.test_labels[index // self.step * self.win_size:index // self.step * self.win_size + self.win_size])"
   ]
  },
  {
   "cell_type": "code",
   "execution_count": 22,
   "metadata": {},
   "outputs": [],
   "source": [
    "def get_loader_segment(data_path, batch_size, win_size=100, step=100, mode='train', dataset='SMD'):\n",
    "    if (dataset == 'SMD'):\n",
    "        dataset = SMDSegLoader(data_path, win_size, step, mode)\n",
    "        \n",
    "    shuffle = False\n",
    "    if mode == 'train':\n",
    "        shuffle = True\n",
    "\n",
    "    data_loader = DataLoader(dataset=dataset,\n",
    "                             batch_size=batch_size,\n",
    "                             shuffle=shuffle,\n",
    "                             num_workers=0)\n",
    "    return data_loader"
   ]
  },
  {
   "cell_type": "code",
   "execution_count": 23,
   "metadata": {},
   "outputs": [],
   "source": [
    "batch_size = 128\n",
    "win_size = 100"
   ]
  },
  {
   "cell_type": "code",
   "execution_count": 24,
   "metadata": {},
   "outputs": [],
   "source": [
    "train_loader = get_loader_segment(data_path, batch_size=batch_size, win_size=win_size, mode='train', dataset=dataset)"
   ]
  },
  {
   "cell_type": "code",
   "execution_count": 25,
   "metadata": {},
   "outputs": [],
   "source": [
    "num_epochs = 10"
   ]
  },
  {
   "cell_type": "code",
   "execution_count": 26,
   "metadata": {},
   "outputs": [],
   "source": [
    "model = AnomalyTransformer(win_size=win_size, enc_in=38, c_out=38, e_layers=3)"
   ]
  },
  {
   "cell_type": "code",
   "execution_count": 27,
   "metadata": {},
   "outputs": [],
   "source": [
    "lr = 1e-4\n",
    "k = 3"
   ]
  },
  {
   "cell_type": "code",
   "execution_count": 28,
   "metadata": {},
   "outputs": [],
   "source": [
    "optimizer = torch.optim.Adam(model.parameters(), lr=1e-4)\n",
    "criterion = nn.MSELoss()"
   ]
  },
  {
   "cell_type": "code",
   "execution_count": 29,
   "metadata": {},
   "outputs": [],
   "source": [
    "def adjust_learning_rate(optimizer, epoch, lr_):\n",
    "    lr_adjust = {epoch: lr_ * (0.5 ** ((epoch - 1) // 1))}\n",
    "    if epoch in lr_adjust.keys():\n",
    "        lr = lr_adjust[epoch]\n",
    "        for param_group in optimizer.param_groups:\n",
    "            param_group['lr'] = lr\n",
    "        print('Updating learning rate to {}'.format(lr))"
   ]
  },
  {
   "cell_type": "code",
   "execution_count": 30,
   "metadata": {},
   "outputs": [],
   "source": [
    "def vali(vali_loader):\n",
    "    model.eval()\n",
    "\n",
    "    loss_1 = []\n",
    "    loss_2 = []\n",
    "    for i, (input_data, _) in enumerate(vali_loader):\n",
    "        input = input_data.float()\n",
    "        output, series, prior, _ = model(input)\n",
    "        series_loss = 0.0\n",
    "        prior_loss = 0.0\n",
    "        for u in range(len(prior)):\n",
    "            series_loss += (torch.mean(my_kl_loss(series[u], (\n",
    "                    prior[u] / torch.unsqueeze(torch.sum(prior[u], dim=-1), dim=-1).repeat(1, 1, 1,\n",
    "                                                                                            win_size)).detach())) + torch.mean(\n",
    "                my_kl_loss(\n",
    "                    (prior[u] / torch.unsqueeze(torch.sum(prior[u], dim=-1), dim=-1).repeat(1, 1, 1,\n",
    "                                                                                            win_size)).detach(),\n",
    "                    series[u])))\n",
    "            prior_loss += (torch.mean(\n",
    "                my_kl_loss((prior[u] / torch.unsqueeze(torch.sum(prior[u], dim=-1), dim=-1).repeat(1, 1, 1,\n",
    "                                                                                                    win_size)),\n",
    "                            series[u].detach())) + torch.mean(\n",
    "                my_kl_loss(series[u].detach(),\n",
    "                            (prior[u] / torch.unsqueeze(torch.sum(prior[u], dim=-1), dim=-1).repeat(1, 1, 1,\n",
    "                                                                                                    win_size)))))\n",
    "        series_loss = series_loss / len(prior)\n",
    "        prior_loss = prior_loss / len(prior)\n",
    "\n",
    "        rec_loss = criterion(output, input)\n",
    "        loss_1.append((rec_loss - k * series_loss).item())\n",
    "        loss_2.append((rec_loss + k * prior_loss).item())\n",
    "\n",
    "    return np.average(loss_1), np.average(loss_2)"
   ]
  },
  {
   "cell_type": "code",
   "execution_count": 31,
   "metadata": {},
   "outputs": [],
   "source": [
    "vali_loader = get_loader_segment(data_path, batch_size=batch_size, win_size=win_size,mode='val',dataset=dataset)"
   ]
  },
  {
   "cell_type": "code",
   "execution_count": 32,
   "metadata": {},
   "outputs": [],
   "source": [
    "test_loader = get_loader_segment(data_path, batch_size=batch_size, win_size=win_size,mode='test',dataset=dataset)"
   ]
  },
  {
   "cell_type": "code",
   "execution_count": 33,
   "metadata": {},
   "outputs": [
    {
     "name": "stdout",
     "output_type": "stream",
     "text": [
      "======================TRAIN MODE======================\n",
      "C:/Users/minseok/Desktop/project/Anomaly-detection/anomaly_detection/train/data_set/SMD\n",
      "Epoch: 1 cost time: 398.4130051136017\n",
      "Epoch: 1, Steps: 56 | Train Loss: -35.5483444 Vali Loss: -44.1161989 \n",
      "Validation loss decreased (inf --> -44.116199).  Saving model ...\n",
      "Updating learning rate to 0.0001\n",
      "C:/Users/minseok/Desktop/project/Anomaly-detection/anomaly_detection/train/data_set/SMD\n",
      "Epoch: 2 cost time: 461.5648989677429\n",
      "Epoch: 2, Steps: 56 | Train Loss: -46.0153963 Vali Loss: -45.9507163 \n",
      "EarlyStopping counter: 1 out of 3\n",
      "Updating learning rate to 5e-05\n",
      "C:/Users/minseok/Desktop/project/Anomaly-detection/anomaly_detection/train/data_set/SMD\n",
      "Epoch: 3 cost time: 479.79224729537964\n",
      "Epoch: 3, Steps: 56 | Train Loss: -47.2062595 Vali Loss: -46.5080820 \n",
      "EarlyStopping counter: 2 out of 3\n",
      "Updating learning rate to 2.5e-05\n",
      "C:/Users/minseok/Desktop/project/Anomaly-detection/anomaly_detection/train/data_set/SMD\n",
      "Epoch: 4 cost time: 515.0396437644958\n",
      "Epoch: 4, Steps: 56 | Train Loss: -47.4798009 Vali Loss: -46.6370497 \n",
      "EarlyStopping counter: 3 out of 3\n",
      "Early stopping\n"
     ]
    }
   ],
   "source": [
    "print(\"======================TRAIN MODE======================\")\n",
    "\n",
    "time_now = time.time()\n",
    "path = model_save_path\n",
    "if not os.path.exists(path):\n",
    "    os.makedirs(path)\n",
    "early_stopping = EarlyStopping(patience=3, verbose=True, dataset_name=dataset)\n",
    "train_steps = len(train_loader)\n",
    "\n",
    "for epoch in range(num_epochs):\n",
    "    iter_count = 0\n",
    "    loss1_list = []\n",
    "    print(data_path)\n",
    "    epoch_time = time.time()\n",
    "    model.train()\n",
    "    for i, (input_data,labels) in enumerate(train_loader):\n",
    "\n",
    "        optimizer.zero_grad()\n",
    "        iter_count += 1\n",
    "        input = input_data.float()\n",
    "\n",
    "        output, series, prior, _ = model(input)\n",
    "\n",
    "        # calculate Association discrepancy\n",
    "        series_loss = 0.0\n",
    "        prior_loss = 0.0\n",
    "        for u in range(len(prior)):\n",
    "            series_loss += (torch.mean(my_kl_loss(series[u], (\n",
    "                    prior[u] / torch.unsqueeze(torch.sum(prior[u], dim=-1), dim=-1).repeat(1, 1, 1,\n",
    "                                                                                            win_size)).detach())) + torch.mean(\n",
    "                my_kl_loss((prior[u] / torch.unsqueeze(torch.sum(prior[u], dim=-1), dim=-1).repeat(1, 1, 1,\n",
    "                                                                                                    win_size)).detach(),\n",
    "                            series[u])))\n",
    "            prior_loss += (torch.mean(my_kl_loss(\n",
    "                (prior[u] / torch.unsqueeze(torch.sum(prior[u], dim=-1), dim=-1).repeat(1, 1, 1,\n",
    "                                                                                        win_size)),\n",
    "                series[u].detach())) + torch.mean(\n",
    "                my_kl_loss(series[u].detach(), (\n",
    "                        prior[u] / torch.unsqueeze(torch.sum(prior[u], dim=-1), dim=-1).repeat(1, 1, 1,\n",
    "                                                                                                win_size)))))\n",
    "        series_loss = series_loss / len(prior)\n",
    "        prior_loss = prior_loss / len(prior)\n",
    "\n",
    "        rec_loss = criterion(output, input)\n",
    "\n",
    "        loss1_list.append((rec_loss - k * series_loss).item())\n",
    "        loss1 = rec_loss - k * series_loss\n",
    "        loss2 = rec_loss + k * prior_loss\n",
    "\n",
    "        if (i + 1) % 100 == 0:\n",
    "            speed = (time.time() - time_now) / iter_count\n",
    "            left_time = speed * ((num_epochs - epoch) * train_steps - i)\n",
    "            print('\\tspeed: {:.4f}s/iter; left time: {:.4f}s'.format(speed, left_time))\n",
    "            iter_count = 0\n",
    "            time_now = time.time()\n",
    "\n",
    "        # Minimax strategy\n",
    "        loss1.backward(retain_graph=True)\n",
    "        optimizer.step()\n",
    "        loss2.backward()\n",
    "        optimizer.step()\n",
    "\n",
    "    print(\"Epoch: {} cost time: {}\".format(epoch + 1, time.time() - epoch_time))\n",
    "    train_loss = np.average(loss1_list)\n",
    "\n",
    "    vali_loss1, vali_loss2 = vali(test_loader)\n",
    "\n",
    "    print(\n",
    "        \"Epoch: {0}, Steps: {1} | Train Loss: {2:.7f} Vali Loss: {3:.7f} \".format(\n",
    "            epoch + 1, train_steps, train_loss, vali_loss1))\n",
    "    early_stopping(vali_loss1, vali_loss2, model, path)\n",
    "    if early_stopping.early_stop:\n",
    "        print(\"Early stopping\")\n",
    "        break\n",
    "    adjust_learning_rate(optimizer, epoch + 1, lr)"
   ]
  },
  {
   "cell_type": "code",
   "execution_count": 34,
   "metadata": {},
   "outputs": [],
   "source": [
    "thre_loader = get_loader_segment(data_path, batch_size=batch_size, win_size=win_size,\n",
    "                                              mode='thre',\n",
    "                                              dataset=dataset)"
   ]
  },
  {
   "cell_type": "code",
   "execution_count": 36,
   "metadata": {},
   "outputs": [],
   "source": [
    "anormly_ratio = 0.5"
   ]
  },
  {
   "cell_type": "code",
   "execution_count": 37,
   "metadata": {},
   "outputs": [
    {
     "name": "stdout",
     "output_type": "stream",
     "text": [
      "======================TEST MODE======================\n"
     ]
    },
    {
     "name": "stderr",
     "output_type": "stream",
     "text": [
      "c:\\Users\\minseok\\anaconda3\\envs\\py36\\lib\\site-packages\\torch\\nn\\_reduction.py:43: UserWarning: size_average and reduce args will be deprecated, please use reduction='none' instead.\n",
      "  warnings.warn(warning.format(ret))\n"
     ]
    },
    {
     "name": "stdout",
     "output_type": "stream",
     "text": [
      "Threshold : 0.1439638721197787\n",
      "pred:    (708400,)\n",
      "gt:      (708400,)\n",
      "pred:  (708400,)\n",
      "gt:    (708400,)\n",
      "Accuracy : 0.9931, Precision : 0.8923, Recall : 0.9474, F-score : 0.9190 \n"
     ]
    }
   ],
   "source": [
    "model.load_state_dict(torch.load(os.path.join(str(model_save_path), str(dataset) + '_checkpoint.pth')))\n",
    "model.eval()\n",
    "temperature = 50\n",
    "\n",
    "print(\"======================TEST MODE======================\")\n",
    "\n",
    "criterion = nn.MSELoss(reduce=False)\n",
    "\n",
    "# (1) stastic on the train set\n",
    "attens_energy = []\n",
    "for i, (input_data, labels) in enumerate(train_loader):\n",
    "    input = input_data.float()\n",
    "    output, series, prior, _ = model(input)\n",
    "    loss = torch.mean(criterion(input, output), dim=-1)\n",
    "    series_loss = 0.0\n",
    "    prior_loss = 0.0\n",
    "    for u in range(len(prior)):\n",
    "        if u == 0:\n",
    "            series_loss = my_kl_loss(series[u], (\n",
    "                    prior[u] / torch.unsqueeze(torch.sum(prior[u], dim=-1), dim=-1).repeat(1, 1, 1,\n",
    "                                                                                            win_size)).detach()) * temperature\n",
    "            prior_loss = my_kl_loss(\n",
    "                (prior[u] / torch.unsqueeze(torch.sum(prior[u], dim=-1), dim=-1).repeat(1, 1, 1,\n",
    "                                                                                        win_size)),\n",
    "                series[u].detach()) * temperature\n",
    "        else:\n",
    "            series_loss += my_kl_loss(series[u], (\n",
    "                    prior[u] / torch.unsqueeze(torch.sum(prior[u], dim=-1), dim=-1).repeat(1, 1, 1,\n",
    "                                                                                            win_size)).detach()) * temperature\n",
    "            prior_loss += my_kl_loss(\n",
    "                (prior[u] / torch.unsqueeze(torch.sum(prior[u], dim=-1), dim=-1).repeat(1, 1, 1,\n",
    "                                                                                        win_size)),\n",
    "                series[u].detach()) * temperature\n",
    "\n",
    "    metric = torch.softmax((-series_loss - prior_loss), dim=-1)\n",
    "    cri = metric * loss\n",
    "    cri = cri.detach().cpu().numpy()\n",
    "    attens_energy.append(cri)\n",
    "\n",
    "attens_energy = np.concatenate(attens_energy, axis=0).reshape(-1)\n",
    "train_energy = np.array(attens_energy)\n",
    "\n",
    "# (2) find the threshold\n",
    "attens_energy = []\n",
    "for i, (input_data, labels) in enumerate(thre_loader):\n",
    "    input = input_data.float()\n",
    "    output, series, prior, _ = model(input)\n",
    "\n",
    "    loss = torch.mean(criterion(input, output), dim=-1)\n",
    "\n",
    "    series_loss = 0.0\n",
    "    prior_loss = 0.0\n",
    "    for u in range(len(prior)):\n",
    "        if u == 0:\n",
    "            series_loss = my_kl_loss(series[u], (\n",
    "                    prior[u] / torch.unsqueeze(torch.sum(prior[u], dim=-1), dim=-1).repeat(1, 1, 1,\n",
    "                                                                                            win_size)).detach()) * temperature\n",
    "            prior_loss = my_kl_loss(\n",
    "                (prior[u] / torch.unsqueeze(torch.sum(prior[u], dim=-1), dim=-1).repeat(1, 1, 1,\n",
    "                                                                                        win_size)),\n",
    "                series[u].detach()) * temperature\n",
    "        else:\n",
    "            series_loss += my_kl_loss(series[u], (\n",
    "                    prior[u] / torch.unsqueeze(torch.sum(prior[u], dim=-1), dim=-1).repeat(1, 1, 1,\n",
    "                                                                                            win_size)).detach()) * temperature\n",
    "            prior_loss += my_kl_loss(\n",
    "                (prior[u] / torch.unsqueeze(torch.sum(prior[u], dim=-1), dim=-1).repeat(1, 1, 1,\n",
    "                                                                                        win_size)),\n",
    "                series[u].detach()) * temperature\n",
    "    # Metric\n",
    "    metric = torch.softmax((-series_loss - prior_loss), dim=-1)\n",
    "    cri = metric * loss\n",
    "    cri = cri.detach().cpu().numpy()\n",
    "    attens_energy.append(cri)\n",
    "\n",
    "attens_energy = np.concatenate(attens_energy, axis=0).reshape(-1)\n",
    "test_energy = np.array(attens_energy)\n",
    "combined_energy = np.concatenate([train_energy, test_energy], axis=0)\n",
    "thresh = np.percentile(combined_energy, 100 - anormly_ratio)\n",
    "print(\"Threshold :\", thresh)\n",
    "\n",
    "# (3) evaluation on the test set\n",
    "test_labels = []\n",
    "attens_energy = []\n",
    "for i, (input_data, labels) in enumerate(thre_loader):\n",
    "    input = input_data.float()\n",
    "    output, series, prior, _ = model(input)\n",
    "\n",
    "    loss = torch.mean(criterion(input, output), dim=-1)\n",
    "\n",
    "    series_loss = 0.0\n",
    "    prior_loss = 0.0\n",
    "    for u in range(len(prior)):\n",
    "        if u == 0:\n",
    "            series_loss = my_kl_loss(series[u], (\n",
    "                    prior[u] / torch.unsqueeze(torch.sum(prior[u], dim=-1), dim=-1).repeat(1, 1, 1,\n",
    "                                                                                            win_size)).detach()) * temperature\n",
    "            prior_loss = my_kl_loss(\n",
    "                (prior[u] / torch.unsqueeze(torch.sum(prior[u], dim=-1), dim=-1).repeat(1, 1, 1,\n",
    "                                                                                        win_size)),\n",
    "                series[u].detach()) * temperature\n",
    "        else:\n",
    "            series_loss += my_kl_loss(series[u], (\n",
    "                    prior[u] / torch.unsqueeze(torch.sum(prior[u], dim=-1), dim=-1).repeat(1, 1, 1,\n",
    "                                                                                            win_size)).detach()) * temperature\n",
    "            prior_loss += my_kl_loss(\n",
    "                (prior[u] / torch.unsqueeze(torch.sum(prior[u], dim=-1), dim=-1).repeat(1, 1, 1,\n",
    "                                                                                        win_size)),\n",
    "                series[u].detach()) * temperature\n",
    "    metric = torch.softmax((-series_loss - prior_loss), dim=-1)\n",
    "\n",
    "    cri = metric * loss\n",
    "    cri = cri.detach().cpu().numpy()\n",
    "    attens_energy.append(cri)\n",
    "    test_labels.append(labels)\n",
    "\n",
    "attens_energy = np.concatenate(attens_energy, axis=0).reshape(-1)\n",
    "test_labels = np.concatenate(test_labels, axis=0).reshape(-1)\n",
    "test_energy = np.array(attens_energy)\n",
    "test_labels = np.array(test_labels)\n",
    "\n",
    "pred = (test_energy > thresh).astype(int)\n",
    "\n",
    "gt = test_labels.astype(int)\n",
    "\n",
    "print(\"pred:   \", pred.shape)\n",
    "print(\"gt:     \", gt.shape)\n",
    "\n",
    "# detection adjustment\n",
    "anomaly_state = False\n",
    "for i in range(len(gt)):\n",
    "    if gt[i] == 1 and pred[i] == 1 and not anomaly_state:\n",
    "        anomaly_state = True\n",
    "        for j in range(i, 0, -1):\n",
    "            if gt[j] == 0:\n",
    "                break\n",
    "            else:\n",
    "                if pred[j] == 0:\n",
    "                    pred[j] = 1\n",
    "        for j in range(i, len(gt)):\n",
    "            if gt[j] == 0:\n",
    "                break\n",
    "            else:\n",
    "                if pred[j] == 0:\n",
    "                    pred[j] = 1\n",
    "    elif gt[i] == 0:\n",
    "        anomaly_state = False\n",
    "    if anomaly_state:\n",
    "        pred[i] = 1\n",
    "\n",
    "pred = np.array(pred)\n",
    "gt = np.array(gt)\n",
    "print(\"pred: \", pred.shape)\n",
    "print(\"gt:   \", gt.shape)\n",
    "\n",
    "from sklearn.metrics import precision_recall_fscore_support\n",
    "from sklearn.metrics import accuracy_score\n",
    "accuracy = accuracy_score(gt, pred)\n",
    "precision, recall, f_score, support = precision_recall_fscore_support(gt, pred,\n",
    "                                                                        average='binary')\n",
    "print(\n",
    "    \"Accuracy : {:0.4f}, Precision : {:0.4f}, Recall : {:0.4f}, F-score : {:0.4f} \".format(\n",
    "        accuracy, precision,\n",
    "        recall, f_score))"
   ]
  },
  {
   "cell_type": "code",
   "execution_count": 54,
   "metadata": {},
   "outputs": [],
   "source": [
    "pred = np.random.randint(2, size=708400)"
   ]
  },
  {
   "cell_type": "code",
   "execution_count": 55,
   "metadata": {},
   "outputs": [
    {
     "name": "stdout",
     "output_type": "stream",
     "text": [
      "pred:  (708400,)\n",
      "gt:    (708400,)\n",
      "Accuracy : 0.5207, Precision : 0.0797, Recall : 0.9984, F-score : 0.1476 \n"
     ]
    }
   ],
   "source": [
    "anomaly_state = False\n",
    "for i in range(len(gt)):\n",
    "    if gt[i] == 1 and pred[i] == 1 and not anomaly_state:\n",
    "        anomaly_state = True\n",
    "        for j in range(i, 0, -1):\n",
    "            if gt[j] == 0:\n",
    "                break\n",
    "            else:\n",
    "                if pred[j] == 0:\n",
    "                    pred[j] = 1\n",
    "        for j in range(i, len(gt)):\n",
    "            if gt[j] == 0:\n",
    "                break\n",
    "            else:\n",
    "                if pred[j] == 0:\n",
    "                    pred[j] = 1\n",
    "    elif gt[i] == 0:\n",
    "        anomaly_state = False\n",
    "    if anomaly_state:\n",
    "        pred[i] = 1\n",
    "\n",
    "pred = np.array(pred)\n",
    "gt = np.array(gt)\n",
    "print(\"pred: \", pred.shape)\n",
    "print(\"gt:   \", gt.shape)\n",
    "\n",
    "from sklearn.metrics import precision_recall_fscore_support\n",
    "from sklearn.metrics import accuracy_score\n",
    "accuracy = accuracy_score(gt, pred)\n",
    "precision, recall, f_score, support = precision_recall_fscore_support(gt, pred,\n",
    "                                                                        average='binary')\n",
    "print(\n",
    "    \"Accuracy : {:0.4f}, Precision : {:0.4f}, Recall : {:0.4f}, F-score : {:0.4f} \".format(\n",
    "        accuracy, precision,\n",
    "        recall, f_score))"
   ]
  },
  {
   "cell_type": "code",
   "execution_count": 41,
   "metadata": {},
   "outputs": [
    {
     "data": {
      "text/plain": [
       "(708400,)"
      ]
     },
     "execution_count": 41,
     "metadata": {},
     "output_type": "execute_result"
    }
   ],
   "source": [
    "test_energy.shape"
   ]
  },
  {
   "cell_type": "code",
   "execution_count": 43,
   "metadata": {},
   "outputs": [
    {
     "data": {
      "text/plain": [
       "(708400,)"
      ]
     },
     "execution_count": 43,
     "metadata": {},
     "output_type": "execute_result"
    }
   ],
   "source": [
    "gt.shape"
   ]
  },
  {
   "cell_type": "code",
   "execution_count": 44,
   "metadata": {},
   "outputs": [],
   "source": [
    "from sklearn import metrics\n",
    "import matplotlib.pyplot as plt\n",
    "from sklearn.metrics import roc_curve"
   ]
  },
  {
   "cell_type": "code",
   "execution_count": 45,
   "metadata": {},
   "outputs": [
    {
     "data": {
      "image/png": "[encoded data removed]",
      "text/plain": [
       "<Figure size 432x288 with 1 Axes>"
      ]
     },
     "metadata": {
      "needs_background": "light"
     },
     "output_type": "display_data"
    }
   ],
   "source": [
    "false_positive_rate, true_positive_rate, thresholds = roc_curve(gt, test_energy)\n",
    "roc_auc = metrics.roc_auc_score(gt, test_energy)\n",
    "plt.title('ROC-AUC')\n",
    "plt.xlabel('False Positive Rate(1 - Specificity)')\n",
    "plt.ylabel('True Positive Rate(Sensitivity)')\n",
    "\n",
    "plt.plot(false_positive_rate, true_positive_rate, 'b', label='Model (AUC = %0.2f)'% roc_auc)\n",
    "plt.plot([0,1],[1,1],'y--')\n",
    "plt.plot([0,1],[0,1],'r--')\n",
    "\n",
    "plt.legend(loc='lower right')\n",
    "plt.show()"
   ]
  },
  {
   "cell_type": "code",
   "execution_count": 46,
   "metadata": {},
   "outputs": [],
   "source": [
    "pred = (test_energy > thresh).astype(int)"
   ]
  },
  {
   "cell_type": "code",
   "execution_count": 47,
   "metadata": {},
   "outputs": [
    {
     "name": "stdout",
     "output_type": "stream",
     "text": [
      "Accuracy : 0.9542, Precision : 0.1031, Recall : 0.0131, F-score : 0.0233 \n"
     ]
    }
   ],
   "source": [
    "from sklearn.metrics import precision_recall_fscore_support\n",
    "from sklearn.metrics import accuracy_score\n",
    "accuracy = accuracy_score(gt, pred)\n",
    "precision, recall, f_score, support = precision_recall_fscore_support(gt, pred,\n",
    "                                                                        average='binary')\n",
    "print(\n",
    "    \"Accuracy : {:0.4f}, Precision : {:0.4f}, Recall : {:0.4f}, F-score : {:0.4f} \".format(\n",
    "        accuracy, precision,\n",
    "        recall, f_score))"
   ]
  },
  {
   "cell_type": "code",
   "execution_count": 48,
   "metadata": {},
   "outputs": [
    {
     "data": {
      "text/plain": [
       "[<matplotlib.lines.Line2D at 0x2042200e860>]"
      ]
     },
     "execution_count": 48,
     "metadata": {},
     "output_type": "execute_result"
    },
    {
     "data": {
      "image/png": "[encoded data removed]",
      "text/plain": [
       "<Figure size 432x288 with 1 Axes>"
      ]
     },
     "metadata": {
      "needs_background": "light"
     },
     "output_type": "display_data"
    }
   ],
   "source": [
    "plt.plot(test_energy)"
   ]
  },
  {
   "cell_type": "code",
   "execution_count": 49,
   "metadata": {},
   "outputs": [
    {
     "data": {
      "text/plain": [
       "[<matplotlib.lines.Line2D at 0x20425b69550>]"
      ]
     },
     "execution_count": 49,
     "metadata": {},
     "output_type": "execute_result"
    },
    {
     "data": {
      "image/png": "[encoded data removed]",
      "text/plain": [
       "<Figure size 432x288 with 1 Axes>"
      ]
     },
     "metadata": {
      "needs_background": "light"
     },
     "output_type": "display_data"
    }
   ],
   "source": [
    "plt.plot(test_labels)"
   ]
  },
  {
   "cell_type": "code",
   "execution_count": 53,
   "metadata": {},
   "outputs": [
    {
     "data": {
      "text/plain": [
       "(708400,)"
      ]
     },
     "execution_count": 53,
     "metadata": {},
     "output_type": "execute_result"
    }
   ],
   "source": [
    "pred.shape"
   ]
  },
  {
   "cell_type": "code",
   "execution_count": null,
   "metadata": {},
   "outputs": [],
   "source": []
  }
 ],
 "metadata": {
  "interpreter": {
   "hash": "be8697497d0f096a6e0d60a48b0263a745b5e6414d418ab3bc75c1dad3643f94"
  },
  "kernelspec": {
   "display_name": "Python 3.6.13 ('py36')",
   "language": "python",
   "name": "python3"
  },
  "language_info": {
   "codemirror_mode": {
    "name": "ipython",
    "version": 3
   },
   "file_extension": ".py",
   "mimetype": "text/x-python",
   "name": "python",
   "nbconvert_exporter": "python",
   "pygments_lexer": "ipython3",
   "version": "3.6.13"
  },
  "orig_nbformat": 4
 },
 "nbformat": 4,
 "nbformat_minor": 2
}
