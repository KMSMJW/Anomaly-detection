{
 "cells": [
  {
   "cell_type": "code",
   "execution_count": 1,
   "metadata": {},
   "outputs": [],
   "source": [
    "import utils\n",
    "import processing as pr\n",
    "from tqdm.autonotebook import tqdm"
   ]
  },
  {
   "cell_type": "code",
   "execution_count": 2,
   "metadata": {},
   "outputs": [],
   "source": [
    "from sklearn.neighbors import NearestNeighbors"
   ]
  },
  {
   "cell_type": "code",
   "execution_count": 3,
   "metadata": {},
   "outputs": [],
   "source": [
    "import matplotlib.pyplot as plt"
   ]
  },
  {
   "cell_type": "code",
   "execution_count": 4,
   "metadata": {},
   "outputs": [],
   "source": [
    "import math\n",
    "import numpy as np\n",
    "import tensorflow as tf"
   ]
  },
  {
   "cell_type": "code",
   "execution_count": 5,
   "metadata": {},
   "outputs": [],
   "source": [
    "from pyod.models.ecod import ECOD\n",
    "from pyod.models.pca import PCA"
   ]
  },
  {
   "cell_type": "code",
   "execution_count": 6,
   "metadata": {},
   "outputs": [],
   "source": [
    "import utils\n",
    "import processing as pr"
   ]
  },
  {
   "cell_type": "code",
   "execution_count": 7,
   "metadata": {},
   "outputs": [
    {
     "name": "stdout",
     "output_type": "stream",
     "text": [
      "Reconstruction error at epoch 49: 0.7646\n",
      "total loss at epoch 49: 0.7646\n",
      "----------------  scoring  ------------------\n"
     ]
    },
    {
     "name": "stderr",
     "output_type": "stream",
     "text": [
      "100%|██████████| 43/43 [00:01<00:00, 37.96it/s]\n"
     ]
    },
    {
     "name": "stdout",
     "output_type": "stream",
     "text": [
      "--------------- reconstructing  ----------------\n"
     ]
    }
   ],
   "source": [
    "dataloader = pr.data_loader()\n",
    "\n",
    "train_set, test_set, label_set = dataloader.MSL()\n",
    "\n",
    "train_set, test_set = dataloader.min_max(train_set, test_set)\n",
    "\n",
    "train_set_overlap = dataloader.window_overlap(train_set,100,0)\n",
    "test_set_overlap = dataloader.window_overlap(test_set,100,0)\n",
    "\n",
    "trainer = utils.trainer()\n",
    "\n",
    "trainer.init_trainset(train_set_overlap)\n",
    "\n",
    "trainer.build_ae()\n",
    "\n",
    "trainer.train(50,256)\n",
    "\n",
    "label_set, score_set = trainer.ROC_score(test_set_overlap,test_set,label_set, 0, name=\"test\")"
   ]
  },
  {
   "cell_type": "code",
   "execution_count": 9,
   "metadata": {},
   "outputs": [],
   "source": [
    "gt = label_set"
   ]
  },
  {
   "cell_type": "code",
   "execution_count": 10,
   "metadata": {},
   "outputs": [],
   "source": [
    "from sklearn.metrics import precision_recall_fscore_support\n",
    "from sklearn.metrics import accuracy_score"
   ]
  },
  {
   "cell_type": "code",
   "execution_count": 11,
   "metadata": {},
   "outputs": [],
   "source": [
    "f_best = 0\n",
    "precision_best = 0\n",
    "recall_best = 0\n",
    "accuracy_best = 0\n",
    "best_thr1 = 0"
   ]
  },
  {
   "cell_type": "code",
   "execution_count": 12,
   "metadata": {},
   "outputs": [],
   "source": [
    "max = np.max(score_set)\n",
    "min = np.min(score_set)\n",
    "length = (max-min)/200"
   ]
  },
  {
   "cell_type": "code",
   "execution_count": 13,
   "metadata": {},
   "outputs": [
    {
     "name": "stderr",
     "output_type": "stream",
     "text": [
      "100%|██████████| 100/100 [00:00<00:00, 266.41it/s]\n"
     ]
    }
   ],
   "source": [
    "for i in tqdm(range(100)):\n",
    "    thresh = min + i*(max-min)/100\n",
    "    pred = (score_set > thresh).astype(int)\n",
    "    anomaly_state = False\n",
    "    for i in range(len(gt)):\n",
    "        if gt[i] == 1 and pred[i] == 1 and not anomaly_state:\n",
    "            anomaly_state = True\n",
    "            for j in range(i, 0, -1):\n",
    "                if gt[j] == 0:\n",
    "                    break\n",
    "                else:\n",
    "                    if pred[j] == 0:\n",
    "                        pred[j] = 1\n",
    "            for j in range(i, len(gt)):\n",
    "                if gt[j] == 0:\n",
    "                    break\n",
    "                else:\n",
    "                    if pred[j] == 0:\n",
    "                        pred[j] = 1\n",
    "        elif gt[i] == 0:\n",
    "            anomaly_state = False\n",
    "        if anomaly_state:\n",
    "            pred[i] = 1\n",
    "    accuracy = accuracy_score(gt, pred)\n",
    "    precision, recall, f_score, support = precision_recall_fscore_support(gt, pred,\n",
    "                                                                            average='binary')\n",
    "    if f_score > f_best:\n",
    "        accuracy_best = accuracy\n",
    "        f_best = f_score\n",
    "        precision_best = precision\n",
    "        recall_best = recall\n",
    "        best_thr1 = thresh"
   ]
  },
  {
   "cell_type": "code",
   "execution_count": 14,
   "metadata": {},
   "outputs": [
    {
     "name": "stdout",
     "output_type": "stream",
     "text": [
      "Accuracy : 0.8658, Precision : 0.5358, Recall : 0.5127, F-score : 0.5240 \n"
     ]
    }
   ],
   "source": [
    "print(\n",
    "    \"Accuracy : {:0.4f}, Precision : {:0.4f}, Recall : {:0.4f}, F-score : {:0.4f} \".format(\n",
    "        accuracy_best, precision_best,\n",
    "        recall_best, f_best))"
   ]
  },
  {
   "cell_type": "code",
   "execution_count": 15,
   "metadata": {},
   "outputs": [
    {
     "name": "stdout",
     "output_type": "stream",
     "text": [
      "0.1098729161884814\n"
     ]
    }
   ],
   "source": [
    "print(best_thr1)"
   ]
  },
  {
   "cell_type": "code",
   "execution_count": 16,
   "metadata": {},
   "outputs": [],
   "source": [
    "f_best = 0\n",
    "precision_best = 0\n",
    "recall_best = 0\n",
    "accuracy_best = 0\n",
    "best_thr = 0"
   ]
  },
  {
   "cell_type": "code",
   "execution_count": 17,
   "metadata": {},
   "outputs": [
    {
     "name": "stderr",
     "output_type": "stream",
     "text": [
      "100%|██████████| 100/100 [00:00<00:00, 276.83it/s]\n"
     ]
    }
   ],
   "source": [
    "for i in tqdm(range(100)):\n",
    "    thresh = best_thr1 - (max-min)/200 + i*(max-min)/10000\n",
    "    pred = (score_set > thresh).astype(int)\n",
    "    anomaly_state = False\n",
    "    for i in range(len(gt)):\n",
    "        if gt[i] == 1 and pred[i] == 1 and not anomaly_state:\n",
    "            anomaly_state = True\n",
    "            for j in range(i, 0, -1):\n",
    "                if gt[j] == 0:\n",
    "                    break\n",
    "                else:\n",
    "                    if pred[j] == 0:\n",
    "                        pred[j] = 1\n",
    "            for j in range(i, len(gt)):\n",
    "                if gt[j] == 0:\n",
    "                    break\n",
    "                else:\n",
    "                    if pred[j] == 0:\n",
    "                        pred[j] = 1\n",
    "        elif gt[i] == 0:\n",
    "            anomaly_state = False\n",
    "        if anomaly_state:\n",
    "            pred[i] = 1\n",
    "    accuracy = accuracy_score(gt, pred)\n",
    "    precision, recall, f_score, support = precision_recall_fscore_support(gt, pred,\n",
    "                                                                            average='binary')\n",
    "    if f_score > f_best:\n",
    "        accuracy_best = accuracy\n",
    "        f_best = f_score\n",
    "        precision_best = precision\n",
    "        recall_best = recall\n",
    "        best_thr = thresh"
   ]
  },
  {
   "cell_type": "code",
   "execution_count": 18,
   "metadata": {},
   "outputs": [
    {
     "name": "stdout",
     "output_type": "stream",
     "text": [
      "Accuracy : 0.8942, Precision : 0.6758, Recall : 0.5111, F-score : 0.5820 \n"
     ]
    }
   ],
   "source": [
    "print(\n",
    "    \"Accuracy : {:0.4f}, Precision : {:0.4f}, Recall : {:0.4f}, F-score : {:0.4f} \".format(\n",
    "        accuracy_best, precision_best,\n",
    "        recall_best, f_best))"
   ]
  },
  {
   "cell_type": "code",
   "execution_count": 19,
   "metadata": {},
   "outputs": [
    {
     "name": "stdout",
     "output_type": "stream",
     "text": [
      "0.19436273695296896\n"
     ]
    }
   ],
   "source": [
    "print(best_thr)"
   ]
  },
  {
   "cell_type": "code",
   "execution_count": 20,
   "metadata": {},
   "outputs": [],
   "source": [
    "from sklearn.metrics import roc_curve\n",
    "from sklearn import metrics"
   ]
  },
  {
   "cell_type": "code",
   "execution_count": 21,
   "metadata": {},
   "outputs": [
    {
     "data": {
      "image/png": "[encoded data removed]",
      "text/plain": [
       "<Figure size 432x288 with 1 Axes>"
      ]
     },
     "metadata": {
      "needs_background": "light"
     },
     "output_type": "display_data"
    }
   ],
   "source": [
    "false_positive_rate, true_positive_rate, thresholds = roc_curve(label_set, score_set)\n",
    "roc_auc = metrics.roc_auc_score(label_set, score_set)\n",
    "plt.title('ROC-AUC')\n",
    "plt.xlabel('False Positive Rate(1 - Specificity)')\n",
    "plt.ylabel('True Positive Rate(Sensitivity)')\n",
    "\n",
    "plt.plot(false_positive_rate, true_positive_rate, 'b', label='Model (AUC = %0.2f)'% roc_auc)\n",
    "plt.plot([0,1],[1,1],'y--')\n",
    "plt.plot([0,1],[0,1],'r--')\n",
    "\n",
    "plt.legend(loc='lower right')\n",
    "plt.show()"
   ]
  }
 ],
 "metadata": {
  "interpreter": {
   "hash": "6035c0200a6a71b9b0984fd1fa045b6d3ba8481bbe0e0d4a2f3dbba709d74662"
  },
  "kernelspec": {
   "display_name": "Python 3.9.7 ('base')",
   "language": "python",
   "name": "python3"
  },
  "language_info": {
   "codemirror_mode": {
    "name": "ipython",
    "version": 3
   },
   "file_extension": ".py",
   "mimetype": "text/x-python",
   "name": "python",
   "nbconvert_exporter": "python",
   "pygments_lexer": "ipython3",
   "version": "3.9.7"
  },
  "orig_nbformat": 4
 },
 "nbformat": 4,
 "nbformat_minor": 2
}
