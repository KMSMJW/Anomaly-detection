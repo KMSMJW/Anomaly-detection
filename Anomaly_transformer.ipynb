{
 "cells": [
  {
   "cell_type": "code",
   "execution_count": 105,
   "metadata": {},
   "outputs": [],
   "source": [
    "import tensorflow as tf\n",
    "from tensorflow import keras\n",
    "import numpy as np\n",
    "import keras.backend as K\n",
    "import math\n",
    "from tensorflow.keras import initializers\n",
    "import tensorflow_addons as tfa\n",
    "import random\n",
    "import matplotlib.pyplot as plt\n",
    "import os\n",
    "from tqdm.autonotebook import tqdm\n",
    "from IPython import display"
   ]
  },
  {
   "cell_type": "code",
   "execution_count": 106,
   "metadata": {},
   "outputs": [],
   "source": [
    "class AnomalyAttention(keras.layers.Layer):\n",
    "\tdef __init__(self, num_heads, seqs, d_model):\n",
    "\t\tsuper(AnomalyAttention, self).__init__()\n",
    "\t\t\n",
    "\t\tself.depth = d_model // num_heads\n",
    "\t\tself.seqs = seqs\n",
    "\t\tself.num_heads = num_heads\n",
    "\t\tself.d_model = d_model\n",
    "\n",
    "\t\tself.wq = keras.layers.Dense(d_model, input_shape=(None,self.seqs,self.d_model), use_bias=False, name='wq')\n",
    "\t\tself.wk = keras.layers.Dense(d_model, input_shape=(None,self.seqs,self.d_model), use_bias=False, name='wk')\n",
    "\t\tself.wv = keras.layers.Dense(d_model, input_shape=(None,self.seqs,self.d_model), use_bias=False, name='wv')\n",
    "\t\tself.ws = keras.layers.Dense(num_heads, input_shape=(None,self.seqs,self.d_model), use_bias=False, name='ws')\n",
    "\t\tself.MLP_out = keras.layers.Dense(d_model, input_shape=(None,self.seqs,self.d_model), use_bias=False, name='MLP_out')\n",
    "\n",
    "\tdef call(self,x):\n",
    "\t\tself.initialize(x)\n",
    "\t\tself.P = self.prior_association() # P = (batch_size, num_head, seqs, seqs)\n",
    "\t\tself.S = self.series_association() # S = (batch_size, num_head, seqs, seqs)\n",
    "\t\tz = self.attention()\n",
    "\t\tZ = self.MLP_out(z)\n",
    "\n",
    "\t\treturn Z\n",
    "\n",
    "\tdef initialize(self,x):\n",
    "\t\t# x = (batch_size, seqs, channels)\n",
    "\t\tself.Q = self.wq(x) # Q = (batch_size, seqs, d_model)\n",
    "\t\tself.K = self.wk(x) # K = (batch_size, seqs, d_model)\n",
    "\t\tself.V = self.wv(x) # V = (batch_size, seqs, d_model)\n",
    "\t\tself.sigma = self.ws(x) # sigma = (batch_size, seqs, num_head)\n",
    "\t\t# self.sigma = tf.abs(self.sigma)\n",
    "\t\tself.sigma = self.sigma + 1e-6\n",
    "\t\tself.split_Q = self.split_head(self.Q) # split_Q,K,V = (batch_size, num_head, seqs, depth)\n",
    "\t\tself.split_K = self.split_head(self.K)\n",
    "\t\tself.split_V = self.split_head(self.V)\n",
    "\t\tself.split_sigma = self.sigma_split(self.sigma) # split_sigma = (batch_size, num_head, seqs, 1)\n",
    "\n",
    "\tdef prior_association(self):\n",
    "\t\tp = np.abs(np.indices((self.seqs,self.seqs))[0] - np.indices((self.seqs,self.seqs))[1]) # p = (seqs, seqs)\n",
    "\t\tp = p**2\n",
    "\t\tp = tf.constant(p, dtype='float32')\n",
    "\t\tp = -p / (2*(self.split_sigma**2)) # p = (batch_size, num_heads, seqs, seqs)\n",
    "\t\tgaussian = tf.math.exp(p)/(math.sqrt(2*math.pi)*self.split_sigma) # gaussian = (batch_size, num_heads, seqs, seqs)\n",
    "\t\tsum = tf.reduce_sum(gaussian, axis=-1, keepdims=True)\n",
    "\t\treturn gaussian/sum\n",
    "\n",
    "\tdef split_head(self,x):\n",
    "\t\t# Q = (batch_size, seqs, out_channels) / sigma = (batch_size, seqs, num_head)\n",
    "\t\tsplit = tf.transpose(x, perm=[0,2,1]) # Q = (batch_size, out_channels, seqs) / sigma = (batch_size, num_head, seqs)\n",
    "\t\tsplit = tf.reshape(split, [-1, self.num_heads, self.depth, self.seqs]) # Q = (batch_size, num_heads, depth, seqs) / sigma = (batch_size, num_heads, num_head/num_head, seqs)\n",
    "\t\tsplit = tf.transpose(split, perm=[0,1,3,2])\n",
    "\n",
    "\t\treturn split\n",
    "\t\n",
    "\tdef sigma_split(self,x):\n",
    "\t\tsplit = tf.transpose(x, perm=[0,2,1])\n",
    "\t\tsplit = tf.reshape(split, [-1, self.num_heads, 1, self.seqs])\n",
    "\t\tsplit = tf.transpose(split, perm=[0,1,3,2])\n",
    "\t\t\n",
    "\t\treturn split\n",
    "\n",
    "\tdef sm(self, x, axis):\n",
    "\t\tsub_max = x - tf.reduce_max(x, axis=axis, keepdims=True)\n",
    "\t\texp = tf.math.exp(sub_max)\n",
    "\t\tsum = tf.reduce_sum(exp, keepdims=True, axis=axis)\n",
    "\t\treturn exp/sum\n",
    "\n",
    "\tdef series_association(self):\n",
    "\t\tsplit_value = self.sm(tf.matmul(self.split_Q, self.split_K, transpose_b=True)*math.sqrt(self.num_heads/self.d_model), axis=-1) # split_value = (batch_size, num_head, seqs, seqs)\n",
    "\t\treturn split_value\n",
    "\n",
    "\tdef attention(self):\n",
    "\t\tsplit_attention = tf.matmul(self.S,self.split_V) # split_attention = (batch_size, num_heads, seqs, depth)\n",
    "\t\tattention = tf.reshape(tf.transpose(split_attention, perm=[0,2,1,3]), [-1, self.seqs, self.d_model]) # attention = (batch_size, seqs, d_model)\n",
    "\n",
    "\t\treturn attention"
   ]
  },
  {
   "cell_type": "code",
   "execution_count": 107,
   "metadata": {},
   "outputs": [],
   "source": [
    "class AnomalyTransformerBlock(keras.layers.Layer):\n",
    "\tdef __init__(self, seqs, d_model, f_dim, num_heads):\n",
    "\t\tsuper(AnomalyTransformerBlock, self).__init__()\n",
    "\n",
    "\t\tself.seqs = seqs\n",
    "\t\tself.f_dim = f_dim\n",
    "\n",
    "\t\tself.attention = AnomalyAttention(num_heads, seqs, d_model)\n",
    "\t\tself.ln1 = keras.layers.LayerNormalization(epsilon=1e-6)\n",
    "\t\t# self.ff = keras.Sequential([keras.layers.Dense(2048, kernel_initializer='glorot_uniform', activation='relu'), keras.layers.Dense(512, kernel_initializer='glorot_uniform')])\n",
    "\t\tself.ln2 = keras.layers.LayerNormalization(epsilon=1e-6)\n",
    "\t\tself.D1 = keras.layers.Dense(f_dim, kernel_initializer='glorot_uniform')\n",
    "\t\t# self.activation = tfa.activations.mish()\n",
    "\t\tself.D2 = keras.layers.Dense(d_model, kernel_initializer='glorot_uniform')\n",
    "\n",
    "\tdef call(self,x):\n",
    "\t\tx_identity = x\n",
    "\t\tx = self.attention(x)\n",
    "\t\tx = tf.keras.layers.Dropout(rate=0.3)(x)\n",
    "\t\tz = self.ln1(x + x_identity)\n",
    "\n",
    "\t\tz_identity = z\n",
    "\t\tz = self.D1(z)\n",
    "\t\tz = tfa.activations.mish(z)\n",
    "\t\tz = self.D2(z)\n",
    "\t\tz = tf.keras.layers.Dropout(rate=0.3)(z)\n",
    "\t\tz = self.ln2(z + z_identity)\n",
    "\n",
    "\t\treturn z"
   ]
  },
  {
   "cell_type": "code",
   "execution_count": 132,
   "metadata": {},
   "outputs": [],
   "source": [
    "class AnomalyTransformer(tf.keras.Model):\n",
    "\tdef __init__(self, seqs, in_channels, d_model, f_dim, num_heads):\n",
    "\t\tsuper(AnomalyTransformer, self).__init__()\n",
    "\t\tself.block1 = AnomalyTransformerBlock(seqs, d_model, f_dim, num_heads)\n",
    "\t\tself.block2 = AnomalyTransformerBlock(seqs, d_model, f_dim, num_heads)\n",
    "\t\tself.block3 = AnomalyTransformerBlock(seqs, d_model, f_dim, num_heads)\n",
    "\t\tself.in_channels = in_channels\n",
    "\t\tself.d_model = d_model\n",
    "\t\tself.seqs = seqs\n",
    "\n",
    "\tdef call(self,x):\n",
    "\t\tx = tf.keras.layers.Dense(self.d_model, input_shape=(None, self.seqs, self.in_channels))(x)\n",
    "\t\tx *= tf.math.sqrt(tf.cast(self.d_model, tf.float32))\n",
    "\t\tx = PositionalEncoding(self.seqs, self.d_model)(x)\n",
    "\t\tx = tf.keras.layers.Dropout(rate=0.3)(x)\n",
    "\n",
    "\t\tx1 = self.block1(x)\n",
    "\t\tself.prior_association1 = self.block1.attention.P\n",
    "\t\tself.series_association1 = self.block1.attention.S\n",
    "\n",
    "\t\tx2 = self.block2(x1)\n",
    "\t\tself.prior_association2 = self.block2.attention.P\n",
    "\t\tself.series_association2 = self.block2.attention.S\n",
    "\n",
    "\t\tx3 = self.block3(x2)\n",
    "\t\tself.prior_association3 = self.block3.attention.P\n",
    "\t\tself.series_association3 = self.block3.attention.S\n",
    "\n",
    "\t\tself.add_loss(self.AssDis(self.prior_association1,self.prior_association2,self.prior_association3,self.series_association1,self.series_association2,self.series_association3))\n",
    "\n",
    "\t\tx4 = tf.keras.layers.Dense(self.in_channels)(x3)\n",
    "\n",
    "\t\treturn x4\n",
    "\n",
    "\t# def KL(self,p,s):\n",
    "\t# \tkl = p*tf.math.log((p+1e-4)/(s+1e-4))\n",
    "\t# \tKL = tf.reduce_sum(kl, axis=-1)\n",
    "\t# \treturn KL\n",
    "\t\n",
    "\tdef AssDis(self,P1,P2,P3,S1,S2,S3):\n",
    "\t\t# P1 = (batch_size, num_heads, seqs, seqs)\n",
    "\t\tkl = tf.keras.losses.KLDivergence(reduction=tf.keras.losses.Reduction.NONE)\n",
    "\t\tP1 = tf.reduce_mean(P1, axis=1) # P1 = (batch_size, seqs, seqs)\n",
    "\t\tP2 = tf.reduce_mean(P2, axis=1)\n",
    "\t\tP3 = tf.reduce_mean(P3, axis=1)\n",
    "\n",
    "\t\tS1 = tf.reduce_mean(S1, axis=1)\n",
    "\t\tS2 = tf.reduce_mean(S2, axis=1)\n",
    "\t\tS3 = tf.reduce_mean(S3, axis=1)\n",
    "\n",
    "\t\tR1 = kl(P1,S1) + kl(S1,P1) # R1 = (batch_size, seqs)\n",
    "\t\tR2 = kl(P2,S2) + kl(S2,P2)\n",
    "\t\tR3 = kl(P3,S3) + kl(S3,P3)\n",
    "\n",
    "\t\tR = (R1 + R2 + R3)/3 # R = (batch_size, seqs)\n",
    "\t\t\n",
    "\t\treturn R\n",
    "\t\t"
   ]
  },
  {
   "cell_type": "code",
   "execution_count": 126,
   "metadata": {},
   "outputs": [],
   "source": [
    "def loss_function(real, pred):\n",
    "\tD = real-pred\n",
    "\tD = D**2\n",
    "\treturn tf.reduce_mean(D,axis=-1)"
   ]
  },
  {
   "cell_type": "code",
   "execution_count": 127,
   "metadata": {},
   "outputs": [],
   "source": [
    "optimizer = tf.keras.optimizers.Adam(learning_rate = 0.0001)"
   ]
  },
  {
   "cell_type": "code",
   "execution_count": 89,
   "metadata": {},
   "outputs": [],
   "source": [
    "train = np.genfromtxt(os.path.join('ServerMachineDataset', 'train', 'machine-1-1.txt'), dtype=np.float32, delimiter=',')\n",
    "test = np.genfromtxt(os.path.join('ServerMachineDataset', 'test', 'machine-1-1.txt'), dtype=np.float32, delimiter=',')\n",
    "test_label = np.genfromtxt(os.path.join('ServerMachineDataset', 'test_label', 'machine-1-1.txt'), dtype=np.float32, delimiter=',')"
   ]
  },
  {
   "cell_type": "code",
   "execution_count": 90,
   "metadata": {},
   "outputs": [],
   "source": [
    "# machine1\n",
    "for i in range(2,9):\n",
    "    train_ = np.genfromtxt(os.path.join('ServerMachineDataset', 'train', 'machine-1-' + str(i) + '.txt'), dtype=np.float32, delimiter=',')\n",
    "    test_ = np.genfromtxt(os.path.join('ServerMachineDataset', 'test', 'machine-1-' + str(i) + '.txt'), dtype=np.float32, delimiter=',')\n",
    "    test_label_ = np.genfromtxt(os.path.join('ServerMachineDataset', 'test_label', 'machine-1-' + str(i) + '.txt'), dtype=np.float32, delimiter=',')\n",
    "    train = np.concatenate((train,train_))\n",
    "    test = np.concatenate((test,test_))\n",
    "    test_label = np.concatenate((test_label,test_label_))"
   ]
  },
  {
   "cell_type": "code",
   "execution_count": 91,
   "metadata": {},
   "outputs": [],
   "source": [
    "# machine2\n",
    "for i in range(1,10):\n",
    "    train_ = np.genfromtxt(os.path.join('ServerMachineDataset', 'train', 'machine-2-' + str(i) + '.txt'), dtype=np.float32, delimiter=',')\n",
    "    test_ = np.genfromtxt(os.path.join('ServerMachineDataset', 'test', 'machine-2-' + str(i) + '.txt'), dtype=np.float32, delimiter=',')\n",
    "    test_label_ = np.genfromtxt(os.path.join('ServerMachineDataset', 'test_label', 'machine-2-' + str(i) + '.txt'), dtype=np.float32, delimiter=',')\n",
    "    train = np.concatenate((train,train_))\n",
    "    test = np.concatenate((test,test_))\n",
    "    test_label = np.concatenate((test_label,test_label_))"
   ]
  },
  {
   "cell_type": "code",
   "execution_count": 92,
   "metadata": {},
   "outputs": [],
   "source": [
    "# machine3\n",
    "for i in range(1,12):\n",
    "    train_ = np.genfromtxt(os.path.join('ServerMachineDataset', 'train', 'machine-3-' + str(i) + '.txt'), dtype=np.float32, delimiter=',')\n",
    "    test_ = np.genfromtxt(os.path.join('ServerMachineDataset', 'test', 'machine-3-' + str(i) + '.txt'), dtype=np.float32, delimiter=',')\n",
    "    test_label_ = np.genfromtxt(os.path.join('ServerMachineDataset', 'test_label', 'machine-3-' + str(i) + '.txt'), dtype=np.float32, delimiter=',')\n",
    "    train = np.concatenate((train,train_))\n",
    "    test = np.concatenate((test,test_))\n",
    "    test_label = np.concatenate((test_label,test_label_))"
   ]
  },
  {
   "cell_type": "code",
   "execution_count": 93,
   "metadata": {},
   "outputs": [
    {
     "data": {
      "text/plain": [
       "(708405, 38)"
      ]
     },
     "execution_count": 93,
     "metadata": {},
     "output_type": "execute_result"
    }
   ],
   "source": [
    "train.shape"
   ]
  },
  {
   "cell_type": "code",
   "execution_count": 128,
   "metadata": {},
   "outputs": [],
   "source": [
    "train_set = []\n",
    "num = train.shape[0] // 100\n",
    "for i in range(num):\n",
    "    sample = train[i*100:(i+1)*100, :]\n",
    "    train_set.append(sample)\n",
    "train_set = np.array(train_set)"
   ]
  },
  {
   "cell_type": "code",
   "execution_count": 95,
   "metadata": {},
   "outputs": [
    {
     "data": {
      "text/plain": [
       "(7084, 100, 38)"
      ]
     },
     "execution_count": 95,
     "metadata": {},
     "output_type": "execute_result"
    }
   ],
   "source": [
    "train_set.shape"
   ]
  },
  {
   "cell_type": "code",
   "execution_count": 96,
   "metadata": {},
   "outputs": [
    {
     "name": "stdout",
     "output_type": "stream",
     "text": [
      "(1416, 100, 38)\n",
      "(5668, 100, 38)\n"
     ]
    }
   ],
   "source": [
    "ratio = train_set.shape[0] // 5\n",
    "mask = np.random.choice(train_set.shape[0], ratio, replace = False)\n",
    "valid_set = train_set[mask]\n",
    "print(valid_set.shape)\n",
    "original_train_set = np.delete(train_set, mask, axis=0)\n",
    "print(original_train_set.shape)"
   ]
  },
  {
   "cell_type": "code",
   "execution_count": 97,
   "metadata": {},
   "outputs": [
    {
     "data": {
      "text/plain": [
       "177"
      ]
     },
     "execution_count": 97,
     "metadata": {},
     "output_type": "execute_result"
    }
   ],
   "source": [
    "original_train_set.shape[0]//32"
   ]
  },
  {
   "cell_type": "code",
   "execution_count": 111,
   "metadata": {},
   "outputs": [],
   "source": [
    "class PositionalEncoding(tf.keras.layers.Layer):\n",
    "    def __init__(self, position, d_model):\n",
    "        super(PositionalEncoding, self).__init__()\n",
    "        self.pos_encoding = self.positional_encoding(position, d_model)\n",
    "    \n",
    "    def get_angles(self, position, i , d_model):\n",
    "        angles = 1 / tf.pow(10000, (2*(i//2))/ tf.cast(d_model, tf.float32))\n",
    "        return position*angles\n",
    "\n",
    "    def positional_encoding(self, position, d_model):\n",
    "        angle_rads = self.get_angles(\n",
    "            position = tf.range(position, dtype=tf.float32)[:, tf.newaxis],\n",
    "            i = tf.range(d_model, dtype=tf.float32)[tf.newaxis, :],\n",
    "            d_model = d_model)\n",
    "\n",
    "        sines = tf.math.sin(angle_rads[:, 0::2])\n",
    "\n",
    "        cosines = tf.math.cos(angle_rads[:, 1::2])\n",
    "\n",
    "        angle_rads = np.zeros(angle_rads.shape)\n",
    "        angle_rads[:, 0::2] = sines\n",
    "        angle_rads[:, 1::2] = cosines\n",
    "        pos_encoding = tf.constant(angle_rads)\n",
    "        pos_encoding = pos_encoding[tf.newaxis, ...]\n",
    "\n",
    "        return tf.cast(pos_encoding, tf.float32)\n",
    "\n",
    "    def call(self, inputs):\n",
    "        return inputs + self.pos_encoding[:, :tf.shape(inputs)[1], :]"
   ]
  },
  {
   "cell_type": "code",
   "execution_count": 137,
   "metadata": {},
   "outputs": [
    {
     "name": "stdout",
     "output_type": "stream",
     "text": [
      "\n",
      "Start of epoch 72\n"
     ]
    },
    {
     "data": {
      "application/vnd.jupyter.widget-view+json": {
       "model_id": "cb111644239f46f89d3fdaea1995c761",
       "version_major": 2,
       "version_minor": 0
      },
      "text/plain": [
       "  0%|          | 0/177 [00:00<?, ?it/s]"
      ]
     },
     "metadata": {},
     "output_type": "display_data"
    },
    {
     "name": "stdout",
     "output_type": "stream",
     "text": [
      "Reconstruction error (in minimize phase) at step 0: 6.7786\n",
      "AssDis (in minimize phase) at step 0: 1269.9165\n",
      "total loss (in minimize phase) at step 0: 3816.5278\n",
      "Reconstruction error (in maximize phase) at step 1: 5.7506\n",
      "AssDis (in maximize phase) at step 1: 1448.5167\n",
      "total loss (in maximize phase) at step 1: -4339.7998\n"
     ]
    }
   ],
   "source": [
    "model = AnomalyTransformer(seqs=100, in_channels=38, d_model=512, f_dim=2024, num_heads=8)\n",
    "epochs = 150\n",
    "batch_size = 32\n",
    "weights = 3\n",
    "re_error_set = []\n",
    "Assdis_set = []\n",
    "for epoch in range(epochs):\n",
    "\tprint(\"\\nStart of epoch %d\" % (epoch,))\n",
    "\ttrain_set = original_train_set\n",
    "\t# for k in range(train_set.shape[0]//batch_size):\n",
    "\tfor k in tqdm(range(train_set.shape[0]//batch_size), total=train_set.shape[0]//batch_size):\n",
    "\t\tif k % 2 == 0 :\n",
    "\t\t\tbatch_mask = np.random.choice(train_set.shape[0], batch_size, replace=False)\n",
    "\t\t\tbatch = train_set[batch_mask]\n",
    "\t\t\twith tf.GradientTape() as tape:\n",
    "\t\t\t\tinput = tf.constant(batch, dtype='float32')\n",
    "\t\t\t\tprediction = model(input)\n",
    "\t\t\t\tif tf.math.is_nan(tf.reduce_sum(prediction)) == True:\n",
    "\t\t\t\t\tassert 1 == 2\n",
    "\t\t\t\treconstruction_error = tf.reduce_sum(tf.reduce_mean((prediction-input)**2, axis=-1), axis=-1)\n",
    "\t\t\t\tAssdis = model.losses[0]\n",
    "\t\t\t\tAssdis = tf.reduce_sum(tf.abs(Assdis), axis=-1)\n",
    "\t\t\t\tloss_value = reconstruction_error + Assdis*weights\n",
    "\t\t\t\tmodel.block1.attention.wq.trainable = False\n",
    "\t\t\t\tmodel.block2.attention.wq.trainable = False\n",
    "\t\t\t\tmodel.block3.attention.wq.trainable = False\n",
    "\t\t\t\tmodel.block1.attention.wk.trainable = False\n",
    "\t\t\t\tmodel.block2.attention.wk.trainable = False\n",
    "\t\t\t\tmodel.block3.attention.wk.trainable = False\n",
    "\t\t\t\tmodel.block1.attention.ws.trainable = True\n",
    "\t\t\t\tmodel.block2.attention.ws.trainable = True\n",
    "\t\t\t\tmodel.block3.attention.ws.trainable = True\n",
    "\t\t\tgradients = tape.gradient(loss_value, model.trainable_weights)\n",
    "\t\t\toptimizer.apply_gradients(zip(gradients, model.trainable_weights))\n",
    "\t\t\tif k % 10000 == 0:\n",
    "\t\t\t\tre_error_set.append(reconstruction_error)\n",
    "\t\t\t\t# Assdis_set.append(Assdis)\n",
    "\t\t\t\tprint(\n",
    "\t\t\t\t\t\"Reconstruction error (in minimize phase) at step %d: %.4f\"\n",
    "\t\t\t\t\t% (k, float(tf.reduce_mean(reconstruction_error)))\n",
    "\t\t\t\t)\n",
    "\t\t\t\tprint(\n",
    "\t\t\t\t\t\"AssDis (in minimize phase) at step %d: %.4f\"\n",
    "\t\t\t\t\t% (k, float(tf.reduce_mean(Assdis)))\n",
    "\t\t\t\t)\n",
    "\t\t\t\tprint(\n",
    "\t\t\t\t\t\"total loss (in minimize phase) at step %d: %.4f\"\n",
    "\t\t\t\t\t% (k, float(tf.reduce_mean(loss_value)))\n",
    "\t\t\t\t)\n",
    "\t\t\ttrain_set = np.delete(train_set,batch_mask,axis=0)\n",
    "\t\telse:\n",
    "\t\t\tbatch_mask = np.random.choice(train_set.shape[0], batch_size, replace=False)\n",
    "\t\t\tbatch = train_set[batch_mask]\t\t\n",
    "\t\t\twith tf.GradientTape() as tape:\n",
    "\t\t\t\tinput = tf.constant(batch, dtype='float32')\n",
    "\t\t\t\tprediction = model(input)\n",
    "\t\t\t\tif tf.math.is_nan(tf.reduce_sum(prediction)) == True:\n",
    "\t\t\t\t\tassert 1 == 2\n",
    "\t\t\t\treconstruction_error = tf.reduce_sum(tf.reduce_mean((prediction-input)**2, axis=-1), axis=-1)\n",
    "\t\t\t\tAssdis = model.losses[0]\n",
    "\t\t\t\tAssdis = tf.reduce_sum(tf.abs(Assdis), axis=-1)\n",
    "\t\t\t\tloss_value = reconstruction_error - Assdis*weights\n",
    "\t\t\t\t# loss_value = Assdis\n",
    "\t\t\t\tmodel.block1.attention.wq.trainable = True\n",
    "\t\t\t\tmodel.block2.attention.wq.trainable = True\n",
    "\t\t\t\tmodel.block3.attention.wq.trainable = True\n",
    "\t\t\t\tmodel.block1.attention.wk.trainable = True\n",
    "\t\t\t\tmodel.block2.attention.wk.trainable = True\n",
    "\t\t\t\tmodel.block3.attention.wk.trainable = True\n",
    "\t\t\t\tmodel.block1.attention.ws.trainable = False\n",
    "\t\t\t\tmodel.block2.attention.ws.trainable = False\n",
    "\t\t\t\tmodel.block3.attention.ws.trainable = False\n",
    "\t\t\tgradients = tape.gradient(loss_value, model.trainable_weights)\n",
    "\t\t\toptimizer.apply_gradients(zip(gradients, model.trainable_weights))\n",
    "\t\t\tif k % 10000 == 1:\n",
    "\t\t\t\tAssdis_set.append(Assdis)\n",
    "\t\t\t\t# re_error_set.append(reconstruction_error)\n",
    "\t\t\t\tprint(\n",
    "\t\t\t\t\t\"Reconstruction error (in maximize phase) at step %d: %.4f\"\n",
    "\t\t\t\t\t% (k, float(tf.reduce_mean(reconstruction_error)))\n",
    "\t\t\t\t)\n",
    "\t\t\t\tprint(\n",
    "\t\t\t\t\t\"AssDis (in maximize phase) at step %d: %.4f\"\n",
    "\t\t\t\t\t% (k, float(tf.reduce_mean(Assdis)))\n",
    "\t\t\t\t)\n",
    "\t\t\t\tprint(\n",
    "\t\t\t\t\t\"total loss (in maximize phase) at step %d: %.4f\"\n",
    "\t\t\t\t\t% (k, tf.reduce_mean(loss_value))\n",
    "\t\t\t\t)\n",
    "\t\t\ttrain_set = np.delete(train_set,batch_mask,axis=0)\n",
    "\tdisplay.clear_output()\n",
    "model.save_weights('minmaxminmax')\n",
    "import pickle\n",
    "with open('reconsturct_list.pkl', 'wb') as f:\n",
    "\tpickle.dump(re_error_set,f)\n",
    "with open('Assdis_list.pkl', 'wb') as f:\n",
    "\tpickle.dump(Assdis_set, f)"
   ]
  },
  {
   "cell_type": "code",
   "execution_count": 134,
   "metadata": {},
   "outputs": [
    {
     "data": {
      "image/png": "[encoded data removed]",
      "text/plain": [
       "<Figure size 432x288 with 1 Axes>"
      ]
     },
     "metadata": {
      "needs_background": "light"
     },
     "output_type": "display_data"
    }
   ],
   "source": [
    "plt.plot(re_error_set)\n",
    "plt.show()\n",
    "# plt.savefig('reconstruction_error_1_4.png')"
   ]
  },
  {
   "cell_type": "code",
   "execution_count": 135,
   "metadata": {},
   "outputs": [
    {
     "data": {
      "image/png": "[encoded data removed]",
      "text/plain": [
       "<Figure size 432x288 with 1 Axes>"
      ]
     },
     "metadata": {
      "needs_background": "light"
     },
     "output_type": "display_data"
    }
   ],
   "source": [
    "plt.plot(Assdis_set)\n",
    "plt.show()\n",
    "# plt.savefig('AssDis_1_4.png')"
   ]
  },
  {
   "cell_type": "code",
   "execution_count": 115,
   "metadata": {},
   "outputs": [],
   "source": [
    "def softmax(x, axis):\n",
    "\tlog = tf.math.exp(x - tf.reduce_max(x, keepdims=True, axis=axis))\n",
    "\tsum = tf.reduce_sum(log, keepdims=True, axis=axis)\n",
    "\treturn log/sum"
   ]
  },
  {
   "cell_type": "code",
   "execution_count": 116,
   "metadata": {},
   "outputs": [],
   "source": [
    "num = valid_set.shape[0]\n",
    "valid_score_set = []\n",
    "for i in range(num):\n",
    "    input = np.array([valid_set[i]])\n",
    "    pred = model(input)\n",
    "    re_error = loss_function(input,pred)\n",
    "    Assdis = model.losses[0]\n",
    "    score = softmax(-Assdis,axis=-1)*re_error\n",
    "    # score = re_error\n",
    "    score = np.squeeze(score)\n",
    "    valid_score_set.append(score)"
   ]
  },
  {
   "cell_type": "code",
   "execution_count": 117,
   "metadata": {},
   "outputs": [
    {
     "data": {
      "text/plain": [
       "0.121286064"
      ]
     },
     "execution_count": 117,
     "metadata": {},
     "output_type": "execute_result"
    }
   ],
   "source": [
    "score = np.array(valid_score_set)\n",
    "score = np.reshape(score, (score.shape[0]*score.shape[1],))\n",
    "sort_score = np.sort(score)\n",
    "threshold = sort_score[round(score.shape[0]*0.995)]\n",
    "threshold"
   ]
  },
  {
   "cell_type": "code",
   "execution_count": 118,
   "metadata": {},
   "outputs": [],
   "source": [
    "test_set = []\n",
    "test_num = test.shape[0] // 100\n",
    "for i in range(test_num):\n",
    "    sample = test[i*100:(i+1)*100, :]\n",
    "    test_set.append(sample)"
   ]
  },
  {
   "cell_type": "code",
   "execution_count": 119,
   "metadata": {},
   "outputs": [
    {
     "data": {
      "text/plain": [
       "(7084, 100, 38)"
      ]
     },
     "execution_count": 119,
     "metadata": {},
     "output_type": "execute_result"
    }
   ],
   "source": [
    "test_set = np.array(test_set)\n",
    "test_set.shape"
   ]
  },
  {
   "cell_type": "code",
   "execution_count": 120,
   "metadata": {},
   "outputs": [],
   "source": [
    "label = test_label[:test_set.shape[0]*100]"
   ]
  },
  {
   "cell_type": "code",
   "execution_count": 121,
   "metadata": {},
   "outputs": [],
   "source": [
    "test_score_set=[]\n",
    "for i in range(test_num):\n",
    "    input = np.array([test_set[i]])\n",
    "    pred = model(input)\n",
    "    re_error = loss_function(input,pred)\n",
    "    Assdis = model.losses[0]\n",
    "    normal_score = softmax(-Assdis,axis=-1)*re_error\n",
    "    # normal_score = re_error\n",
    "    normal_score = np.squeeze(normal_score)\n",
    "    test_score_set.append(normal_score)"
   ]
  },
  {
   "cell_type": "code",
   "execution_count": 122,
   "metadata": {},
   "outputs": [],
   "source": [
    "score_set = np.array(test_score_set)\n",
    "score_set = np.reshape(score_set, (score_set.shape[0]*score_set.shape[1],))\n",
    "score = np.zeros(shape=(score_set.shape[0],))\n",
    "for i in range(len(score_set)):\n",
    "    if score_set[i] > threshold:\n",
    "        score[i] = 1\n",
    "    else:\n",
    "        score[i] = 0"
   ]
  },
  {
   "cell_type": "code",
   "execution_count": 123,
   "metadata": {},
   "outputs": [],
   "source": [
    "from sklearn.metrics import accuracy_score, precision_score, recall_score, confusion_matrix\n",
    "\n",
    "def get_clf_eval(y_test, pred):\n",
    "    confusion = confusion_matrix(y_test, pred)\n",
    "    accuracy = accuracy_score(y_test, pred)\n",
    "    precision = precision_score(y_test, pred)\n",
    "    recall = recall_score(y_test, pred)\n",
    "    print('Confusion Matrix')\n",
    "    print(confusion)\n",
    "    print('정확도:{}, 정밀도:{}, 재현율:{}'.format(accuracy, precision, recall))"
   ]
  },
  {
   "cell_type": "code",
   "execution_count": 124,
   "metadata": {},
   "outputs": [
    {
     "name": "stdout",
     "output_type": "stream",
     "text": [
      "Confusion Matrix\n",
      "[[675843   3113]\n",
      " [ 28909    535]]\n",
      "정확도:0.9547967250141163, 정밀도:0.14665570175438597, 재현율:0.018170085586197527\n"
     ]
    }
   ],
   "source": [
    "get_clf_eval(label, score)"
   ]
  },
  {
   "cell_type": "code",
   "execution_count": 125,
   "metadata": {},
   "outputs": [
    {
     "name": "stdout",
     "output_type": "stream",
     "text": [
      "f1 score : 0.032334098875861236\n"
     ]
    }
   ],
   "source": [
    "from sklearn.metrics import f1_score\n",
    "\n",
    "f1 = f1_score(label, score)\n",
    "print('f1 score :', f1)"
   ]
  },
  {
   "cell_type": "code",
   "execution_count": 60,
   "metadata": {},
   "outputs": [
    {
     "name": "stdout",
     "output_type": "stream",
     "text": [
      "========================================\n",
      "== memory usage check\n",
      "BEFORE CODE: memory_usage_percent: 11.3%\n"
     ]
    }
   ],
   "source": [
    "import psutil\n",
    "import os\n",
    "print(\"==\"*20)\n",
    "print(\"== memory usage check\")\n",
    "\n",
    "# general RAM usage\n",
    "memory_usage_dict = dict(psutil.virtual_memory()._asdict())\n",
    "memory_usage_percent = memory_usage_dict['percent']\n",
    "print(f\"BEFORE CODE: memory_usage_percent: {memory_usage_percent}%\")\n",
    "\n",
    "# pid = os.getpid()\n",
    "# current_process = psutil.Process(pid)\n",
    "# current_process_memory_usage_as_KB = current_process.memory_info()[0] / 2.**20\n",
    "# print(f\"BEFORE CODE: Current memory KB   : {current_process_memory_usage_as_KB: 9.3f} KB\")\n",
    "\n",
    "\n",
    "\n",
    "\n",
    "\n",
    "# # AFTER  code\n",
    "# memory_usage_dict = dict(psutil.virtual_memory()._asdict())\n",
    "# memory_usage_percent = memory_usage_dict['percent']\n",
    "# print(f\"AFTER  CODE: memory_usage_percent: {memory_usage_percent}%\")\n",
    "# # current process RAM usage\n",
    "# pid = os.getpid()\n",
    "# current_process = psutil.Process(pid)\n",
    "# current_process_memory_usage_as_KB = current_process.memory_info()[0] / 2.**20\n",
    "# print(f\"AFTER  CODE: Current memory KB   : {current_process_memory_usage_as_KB: 9.3f} KB\")"
   ]
  },
  {
   "cell_type": "code",
   "execution_count": 107,
   "metadata": {},
   "outputs": [
    {
     "data": {
      "image/png": "[encoded data removed]",
      "text/plain": [
       "<Figure size 432x288 with 1 Axes>"
      ]
     },
     "metadata": {
      "needs_background": "light"
     },
     "output_type": "display_data"
    }
   ],
   "source": [
    "plt.plot(score_set)\n",
    "plt.show()"
   ]
  },
  {
   "cell_type": "code",
   "execution_count": 108,
   "metadata": {},
   "outputs": [],
   "source": [
    "import seaborn as sns"
   ]
  },
  {
   "cell_type": "code",
   "execution_count": 109,
   "metadata": {},
   "outputs": [
    {
     "name": "stderr",
     "output_type": "stream",
     "text": [
      "/home/minseok/miniforge3/envs/tf27/lib/python3.9/site-packages/seaborn/distributions.py:2619: FutureWarning: `distplot` is a deprecated function and will be removed in a future version. Please adapt your code to use either `displot` (a figure-level function with similar flexibility) or `histplot` (an axes-level function for histograms).\n",
      "  warnings.warn(msg, FutureWarning)\n"
     ]
    },
    {
     "data": {
      "text/plain": [
       "<AxesSubplot:ylabel='Density'>"
      ]
     },
     "execution_count": 109,
     "metadata": {},
     "output_type": "execute_result"
    },
    {
     "data": {
      "image/png": "[encoded data removed]",
      "text/plain": [
       "<Figure size 432x288 with 1 Axes>"
      ]
     },
     "metadata": {
      "needs_background": "light"
     },
     "output_type": "display_data"
    }
   ],
   "source": [
    "sns.distplot(score_set)"
   ]
  },
  {
   "cell_type": "code",
   "execution_count": null,
   "metadata": {},
   "outputs": [],
   "source": []
  }
 ],
 "metadata": {
  "interpreter": {
   "hash": "b3ba2566441a7c06988d0923437866b63cedc61552a5af99d1f4fb67d367b25f"
  },
  "kernelspec": {
   "display_name": "Python 3.8.5 64-bit ('base': conda)",
   "language": "python",
   "name": "python3"
  },
  "language_info": {
   "codemirror_mode": {
    "name": "ipython",
    "version": 3
   },
   "file_extension": ".py",
   "mimetype": "text/x-python",
   "name": "python",
   "nbconvert_exporter": "python",
   "pygments_lexer": "ipython3",
   "version": "3.9.9"
  },
  "orig_nbformat": 4
 },
 "nbformat": 4,
 "nbformat_minor": 2
}
